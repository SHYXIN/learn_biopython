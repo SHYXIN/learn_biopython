{
 "cells": [
  {
   "cell_type": "markdown",
   "metadata": {},
   "source": [
    "6.1 Alignment objects"
   ]
  },
  {
   "cell_type": "markdown",
   "metadata": {},
   "source": [
    "6.1.1 Creating an Alignment object from sequences and coordinates"
   ]
  },
  {
   "cell_type": "code",
   "execution_count": 1,
   "metadata": {},
   "outputs": [],
   "source": [
    "seqA = \"CCGGTTTTT\"\n",
    "seqB = \"AGTTTAA\"\n",
    "seqC = \"AGGTTT\"\n",
    "sequences = [seqA, seqB, seqC]"
   ]
  },
  {
   "cell_type": "code",
   "execution_count": 2,
   "metadata": {},
   "outputs": [],
   "source": [
    "import numpy as np\n",
    "\n",
    "coordinates = np.array([[1, 3, 4, 7, 9], [0, 2, 2, 5, 5], [0, 2, 3, 6, 6]])"
   ]
  },
  {
   "cell_type": "markdown",
   "metadata": {},
   "source": [
    "These coordinates define the alignment for the following sequence segments:\n",
    "\n",
    "• SeqA[1:3], SeqB[0:2], and SeqC[0:2] are aligned to each other;\n",
    "\n",
    "• SeqA[3:4] and SeqC[2:3] are aligned to each other, with a gap of one nucleotide in seqB;\n",
    "\n",
    "• SeqA[4:7], SeqB[2:5], and SeqC[3:6] are aligned to each other;\n",
    "\n",
    "• SeqA[7:9] is not aligned to seqB or seqC.\n",
    "\n",
    "Note that the alignment does not include the first nucleotide of seqA and last two nucleotides of seqB.\n",
    "Now we can create the Alignment object:"
   ]
  },
  {
   "cell_type": "code",
   "execution_count": 3,
   "metadata": {},
   "outputs": [
    {
     "data": {
      "text/plain": [
       "<Alignment object (3 rows x 8 columns) at 0x19b84110220>"
      ]
     },
     "execution_count": 3,
     "metadata": {},
     "output_type": "execute_result"
    }
   ],
   "source": [
    "from Bio.Align import Alignment\n",
    "alignment = Alignment(sequences, coordinates)\n",
    "alignment"
   ]
  },
  {
   "cell_type": "code",
   "execution_count": 4,
   "metadata": {},
   "outputs": [
    {
     "data": {
      "text/plain": [
       "['CCGGTTTTT', 'AGTTTAA', 'AGGTTT']"
      ]
     },
     "execution_count": 4,
     "metadata": {},
     "output_type": "execute_result"
    }
   ],
   "source": [
    "alignment.sequences"
   ]
  },
  {
   "cell_type": "code",
   "execution_count": 5,
   "metadata": {},
   "outputs": [
    {
     "data": {
      "text/plain": [
       "array([[1, 3, 4, 7, 9],\n",
       "       [0, 2, 2, 5, 5],\n",
       "       [0, 2, 3, 6, 6]])"
      ]
     },
     "execution_count": 5,
     "metadata": {},
     "output_type": "execute_result"
    }
   ],
   "source": [
    "alignment.coordinates"
   ]
  },
  {
   "cell_type": "code",
   "execution_count": 6,
   "metadata": {},
   "outputs": [
    {
     "name": "stdout",
     "output_type": "stream",
     "text": [
      "                  1 CGGTTTTT 9\n",
      "                  0 AG-TTT-- 5\n",
      "                  0 AGGTTT-- 6\n",
      "\n"
     ]
    }
   ],
   "source": [
    "print(alignment)"
   ]
  },
  {
   "cell_type": "markdown",
   "metadata": {},
   "source": [
    "6.1.2 Creating an Alignment object from aligned sequences"
   ]
  },
  {
   "cell_type": "code",
   "execution_count": 7,
   "metadata": {},
   "outputs": [
    {
     "data": {
      "text/plain": [
       "['CGGTTTTT', 'AGTTT', 'AGGTTT']"
      ]
     },
     "execution_count": 7,
     "metadata": {},
     "output_type": "execute_result"
    }
   ],
   "source": [
    "aligned_sequences = [\"CGGTTTTT\", \"AG-TTT--\", \"AGGTTT--\"]\n",
    "sequences = [aligened_sequence.replace(\"-\", \"\") for aligened_sequence in aligned_sequences]\n",
    "sequences\n"
   ]
  },
  {
   "cell_type": "code",
   "execution_count": 8,
   "metadata": {},
   "outputs": [
    {
     "data": {
      "text/plain": [
       "array([[0, 2, 3, 6, 8],\n",
       "       [0, 2, 2, 5, 5],\n",
       "       [0, 2, 3, 6, 6]])"
      ]
     },
     "execution_count": 8,
     "metadata": {},
     "output_type": "execute_result"
    }
   ],
   "source": [
    "coordinates = Alignment.infer_coordinates(aligned_sequences)\n",
    "coordinates"
   ]
  },
  {
   "cell_type": "markdown",
   "metadata": {},
   "source": [
    "The initial G nucleotide of seqA and the final CC nucleotides of seqB were not included in the alignment and\n",
    "is therefore missing here. But this is easy to fix:"
   ]
  },
  {
   "cell_type": "code",
   "execution_count": 10,
   "metadata": {},
   "outputs": [
    {
     "data": {
      "text/plain": [
       "['CCCGGTTTTT', 'AGTTTAAAA', 'AGGTTT']"
      ]
     },
     "execution_count": 10,
     "metadata": {},
     "output_type": "execute_result"
    }
   ],
   "source": [
    "sequences[0] = \"C\" + sequences[0]\n",
    "sequences[1] = sequences[1] + \"AA\"\n",
    "sequences"
   ]
  },
  {
   "cell_type": "code",
   "execution_count": 11,
   "metadata": {},
   "outputs": [
    {
     "data": {
      "text/plain": [
       "array([[1, 3, 4, 7, 9],\n",
       "       [0, 2, 2, 5, 5],\n",
       "       [0, 2, 3, 6, 6]])"
      ]
     },
     "execution_count": 11,
     "metadata": {},
     "output_type": "execute_result"
    }
   ],
   "source": [
    "coordinates[0, :] += 1\n",
    "coordinates"
   ]
  },
  {
   "cell_type": "code",
   "execution_count": 12,
   "metadata": {},
   "outputs": [
    {
     "name": "stdout",
     "output_type": "stream",
     "text": [
      "                  1 CCGGTTTT 9\n",
      "                  0 AG-TTT-- 5\n",
      "                  0 AGGTTT-- 6\n",
      "\n"
     ]
    }
   ],
   "source": [
    "alignment = Alignment(sequences, coordinates)\n",
    "print(alignment)"
   ]
  },
  {
   "cell_type": "code",
   "execution_count": 13,
   "metadata": {},
   "outputs": [
    {
     "data": {
      "text/plain": [
       "<Alignment object (3 rows x 8 columns) at 0x19b84d23f40>"
      ]
     },
     "execution_count": 13,
     "metadata": {},
     "output_type": "execute_result"
    }
   ],
   "source": [
    "ungapped_alignment = Alignment([\"ACGTACGT\", \"AAGTACGT\", \"ACGTACCT\"])\n",
    "ungapped_alignment"
   ]
  },
  {
   "cell_type": "code",
   "execution_count": 14,
   "metadata": {},
   "outputs": [
    {
     "data": {
      "text/plain": [
       "array([[0, 8],\n",
       "       [0, 8],\n",
       "       [0, 8]])"
      ]
     },
     "execution_count": 14,
     "metadata": {},
     "output_type": "execute_result"
    }
   ],
   "source": [
    "ungapped_alignment.coordinates"
   ]
  },
  {
   "cell_type": "code",
   "execution_count": 15,
   "metadata": {},
   "outputs": [
    {
     "name": "stdout",
     "output_type": "stream",
     "text": [
      "                  0 ACGTACGT 8\n",
      "                  0 AAGTACGT 8\n",
      "                  0 ACGTACCT 8\n",
      "\n"
     ]
    }
   ],
   "source": [
    "print(ungapped_alignment)"
   ]
  },
  {
   "cell_type": "markdown",
   "metadata": {},
   "source": [
    "6.1.3 Common alignment attributes"
   ]
  },
  {
   "cell_type": "markdown",
   "metadata": {},
   "source": [
    "6.2 Slicing and indexing an alignment"
   ]
  },
  {
   "cell_type": "code",
   "execution_count": 16,
   "metadata": {},
   "outputs": [
    {
     "name": "stdout",
     "output_type": "stream",
     "text": [
      "                  1 CCGGTTTT 9\n",
      "                  0 AG-TTT-- 5\n",
      "                  0 AGGTTT-- 6\n",
      "\n"
     ]
    }
   ],
   "source": [
    "print(alignment)"
   ]
  },
  {
   "cell_type": "code",
   "execution_count": 17,
   "metadata": {},
   "outputs": [
    {
     "data": {
      "text/plain": [
       "8"
      ]
     },
     "execution_count": 17,
     "metadata": {},
     "output_type": "execute_result"
    }
   ],
   "source": [
    "alignment.length"
   ]
  },
  {
   "cell_type": "code",
   "execution_count": 18,
   "metadata": {},
   "outputs": [
    {
     "data": {
      "text/plain": [
       "'CCGGTTTT'"
      ]
     },
     "execution_count": 18,
     "metadata": {},
     "output_type": "execute_result"
    }
   ],
   "source": [
    "alignment[0]"
   ]
  },
  {
   "cell_type": "code",
   "execution_count": 19,
   "metadata": {},
   "outputs": [
    {
     "data": {
      "text/plain": [
       "'AG-TTT--'"
      ]
     },
     "execution_count": 19,
     "metadata": {},
     "output_type": "execute_result"
    }
   ],
   "source": [
    "alignment[1]"
   ]
  },
  {
   "cell_type": "code",
   "execution_count": 20,
   "metadata": {},
   "outputs": [
    {
     "data": {
      "text/plain": [
       "'AGGTTT--'"
      ]
     },
     "execution_count": 20,
     "metadata": {},
     "output_type": "execute_result"
    }
   ],
   "source": [
    "alignment[2]"
   ]
  },
  {
   "cell_type": "code",
   "execution_count": 21,
   "metadata": {},
   "outputs": [
    {
     "data": {
      "text/plain": [
       "'CCGGTTTT'"
      ]
     },
     "execution_count": 21,
     "metadata": {},
     "output_type": "execute_result"
    }
   ],
   "source": [
    "alignment[0, :]"
   ]
  },
  {
   "cell_type": "code",
   "execution_count": 24,
   "metadata": {},
   "outputs": [
    {
     "data": {
      "text/plain": [
       "'AG-TTT--'"
      ]
     },
     "execution_count": 24,
     "metadata": {},
     "output_type": "execute_result"
    }
   ],
   "source": [
    "alignment[1, :]"
   ]
  },
  {
   "cell_type": "code",
   "execution_count": 25,
   "metadata": {},
   "outputs": [
    {
     "data": {
      "text/plain": [
       "'CGGTTT'"
      ]
     },
     "execution_count": 25,
     "metadata": {},
     "output_type": "execute_result"
    }
   ],
   "source": [
    "alignment[0, 1:-1]"
   ]
  },
  {
   "cell_type": "code",
   "execution_count": 30,
   "metadata": {},
   "outputs": [
    {
     "data": {
      "text/plain": [
       "'G-TTT-'"
      ]
     },
     "execution_count": 30,
     "metadata": {},
     "output_type": "execute_result"
    }
   ],
   "source": [
    "alignment[1, 1:-1]"
   ]
  },
  {
   "cell_type": "code",
   "execution_count": 31,
   "metadata": {},
   "outputs": [
    {
     "data": {
      "text/plain": [
       "'CGT'"
      ]
     },
     "execution_count": 31,
     "metadata": {},
     "output_type": "execute_result"
    }
   ],
   "source": [
    "alignment[0, (1, 2, 4)]"
   ]
  },
  {
   "cell_type": "code",
   "execution_count": 32,
   "metadata": {},
   "outputs": [
    {
     "data": {
      "text/plain": [
       "'A-T'"
      ]
     },
     "execution_count": 32,
     "metadata": {},
     "output_type": "execute_result"
    }
   ],
   "source": [
    "alignment[1, range(0, 5, 2)]"
   ]
  },
  {
   "cell_type": "code",
   "execution_count": 33,
   "metadata": {},
   "outputs": [
    {
     "data": {
      "text/plain": [
       "'G'"
      ]
     },
     "execution_count": 33,
     "metadata": {},
     "output_type": "execute_result"
    }
   ],
   "source": [
    "alignment[0, 2]"
   ]
  },
  {
   "cell_type": "code",
   "execution_count": 34,
   "metadata": {},
   "outputs": [
    {
     "data": {
      "text/plain": [
       "'-'"
      ]
     },
     "execution_count": 34,
     "metadata": {},
     "output_type": "execute_result"
    }
   ],
   "source": [
    "alignment[2, 6]"
   ]
  },
  {
   "cell_type": "code",
   "execution_count": 36,
   "metadata": {},
   "outputs": [
    {
     "name": "stdout",
     "output_type": "stream",
     "text": [
      "                  1 CCGGTTTT 9\n",
      "                  0 AG-TTT-- 5\n",
      "                  0 AGGTTT-- 6\n",
      "\n"
     ]
    }
   ],
   "source": [
    "print(alignment)"
   ]
  },
  {
   "cell_type": "code",
   "execution_count": 37,
   "metadata": {},
   "outputs": [
    {
     "data": {
      "text/plain": [
       "'CAA'"
      ]
     },
     "execution_count": 37,
     "metadata": {},
     "output_type": "execute_result"
    }
   ],
   "source": [
    "alignment[:, 0]"
   ]
  },
  {
   "cell_type": "code",
   "execution_count": 38,
   "metadata": {},
   "outputs": [
    {
     "data": {
      "text/plain": [
       "'CGG'"
      ]
     },
     "execution_count": 38,
     "metadata": {},
     "output_type": "execute_result"
    }
   ],
   "source": [
    "alignment[:, 1]"
   ]
  },
  {
   "cell_type": "code",
   "execution_count": 39,
   "metadata": {},
   "outputs": [
    {
     "data": {
      "text/plain": [
       "'G-G'"
      ]
     },
     "execution_count": 39,
     "metadata": {},
     "output_type": "execute_result"
    }
   ],
   "source": [
    "alignment[:, 2]"
   ]
  },
  {
   "cell_type": "code",
   "execution_count": 40,
   "metadata": {},
   "outputs": [
    {
     "data": {
      "text/plain": [
       "<Alignment object (2 rows x 6 columns) at 0x19b844292e0>"
      ]
     },
     "execution_count": 40,
     "metadata": {},
     "output_type": "execute_result"
    }
   ],
   "source": [
    "alignment[1:]"
   ]
  },
  {
   "cell_type": "code",
   "execution_count": 42,
   "metadata": {},
   "outputs": [
    {
     "name": "stdout",
     "output_type": "stream",
     "text": [
      "target            0 AG-TTT 5\n",
      "                  0 ||-||| 6\n",
      "query             0 AGGTTT 6\n",
      "\n"
     ]
    }
   ],
   "source": [
    "print(alignment[1:])"
   ]
  },
  {
   "cell_type": "code",
   "execution_count": 43,
   "metadata": {},
   "outputs": [
    {
     "name": "stdout",
     "output_type": "stream",
     "text": [
      "target            0 AG-TTT 5\n",
      "                  0 ||-||| 6\n",
      "query             0 AGGTTT 6\n",
      "\n"
     ]
    }
   ],
   "source": [
    "print(alignment[1:, :])"
   ]
  },
  {
   "cell_type": "code",
   "execution_count": 44,
   "metadata": {},
   "outputs": [
    {
     "data": {
      "text/plain": [
       "<Alignment object (3 rows x 4 columns) at 0x19b843d80d0>"
      ]
     },
     "execution_count": 44,
     "metadata": {},
     "output_type": "execute_result"
    }
   ],
   "source": [
    "alignment[:, :4]"
   ]
  },
  {
   "cell_type": "code",
   "execution_count": 45,
   "metadata": {},
   "outputs": [
    {
     "name": "stdout",
     "output_type": "stream",
     "text": [
      "                  1 CCGG 5\n",
      "                  0 AG-T 3\n",
      "                  0 AGGT 4\n",
      "\n"
     ]
    }
   ],
   "source": [
    "print(alignment[:, :4])"
   ]
  },
  {
   "cell_type": "code",
   "execution_count": 46,
   "metadata": {},
   "outputs": [
    {
     "data": {
      "text/plain": [
       "<Alignment object (3 rows x 6 columns) at 0x19b84645b20>"
      ]
     },
     "execution_count": 46,
     "metadata": {},
     "output_type": "execute_result"
    }
   ],
   "source": [
    "alignment[:, -6:]"
   ]
  },
  {
   "cell_type": "code",
   "execution_count": 47,
   "metadata": {},
   "outputs": [
    {
     "name": "stdout",
     "output_type": "stream",
     "text": [
      "                  3 GGTTTT 9\n",
      "                  2 -TTT-- 5\n",
      "                  2 GTTT-- 6\n",
      "\n"
     ]
    }
   ],
   "source": [
    "print(alignment[:, -6:])"
   ]
  },
  {
   "cell_type": "code",
   "execution_count": 49,
   "metadata": {},
   "outputs": [
    {
     "name": "stdout",
     "output_type": "stream",
     "text": [
      "                  0 CGC 3\n",
      "                  0 GTA 3\n",
      "                  0 GTA 3\n",
      "\n"
     ]
    }
   ],
   "source": [
    "print(alignment[:, (1, 3, 0)])"
   ]
  },
  {
   "cell_type": "code",
   "execution_count": null,
   "metadata": {},
   "outputs": [],
   "source": [
    "alignment[:, :]"
   ]
  },
  {
   "cell_type": "markdown",
   "metadata": {},
   "source": [
    "6.3 Getting information about the alignment"
   ]
  },
  {
   "cell_type": "markdown",
   "metadata": {},
   "source": [
    "6.3.1 Alignment shape"
   ]
  },
  {
   "cell_type": "code",
   "execution_count": 50,
   "metadata": {},
   "outputs": [
    {
     "data": {
      "text/plain": [
       "3"
      ]
     },
     "execution_count": 50,
     "metadata": {},
     "output_type": "execute_result"
    }
   ],
   "source": [
    "len(alignment)"
   ]
  },
  {
   "cell_type": "code",
   "execution_count": 51,
   "metadata": {},
   "outputs": [
    {
     "data": {
      "text/plain": [
       "8"
      ]
     },
     "execution_count": 51,
     "metadata": {},
     "output_type": "execute_result"
    }
   ],
   "source": [
    "alignment.length"
   ]
  },
  {
   "cell_type": "code",
   "execution_count": 52,
   "metadata": {},
   "outputs": [
    {
     "data": {
      "text/plain": [
       "(3, 8)"
      ]
     },
     "execution_count": 52,
     "metadata": {},
     "output_type": "execute_result"
    }
   ],
   "source": [
    "alignment.shape"
   ]
  },
  {
   "cell_type": "markdown",
   "metadata": {},
   "source": [
    "6.3.2 Comparing alignments\n",
    "\n",
    "\n",
    "Two alignments are equal to each other (meaning that alignment1 == alignment2 evaluates to True)\n",
    "if each of the sequences in alignment1.sequences and alignment2.sequences are equal to each other,\n",
    "and alignment1.coordinates and alignment2.coordinates contain the same coordinates. If either of\n",
    "these conditions is not fulfilled, then alignment1 == alignment2 evaluates to False. Inequality of two\n",
    "alignments (e.g., alignment1 < alignment2) is established by first comparing alignment1.sequences and\n",
    "alignment2.sequences, and if they are equal, by comparing alignment1.coordinates to alignment2.coordinates"
   ]
  },
  {
   "cell_type": "markdown",
   "metadata": {},
   "source": [
    "6.3.3 Finding the indices of aligned sequences"
   ]
  },
  {
   "cell_type": "code",
   "execution_count": 54,
   "metadata": {},
   "outputs": [
    {
     "name": "stdout",
     "output_type": "stream",
     "text": [
      "target            1 CCGGTTTT 9\n",
      "                  0 ..-.||-- 8\n",
      "query             0 AG-TTT-- 5\n",
      "\n"
     ]
    }
   ],
   "source": [
    "pairwise_alignment = alignment[:2, :]\n",
    "print(pairwise_alignment)"
   ]
  },
  {
   "cell_type": "code",
   "execution_count": 55,
   "metadata": {},
   "outputs": [
    {
     "data": {
      "text/plain": [
       "array([[[1, 3],\n",
       "        [4, 7]],\n",
       "\n",
       "       [[0, 2],\n",
       "        [2, 5]]])"
      ]
     },
     "execution_count": 55,
     "metadata": {},
     "output_type": "execute_result"
    }
   ],
   "source": [
    "pairwise_alignment.aligned"
   ]
  },
  {
   "cell_type": "code",
   "execution_count": 57,
   "metadata": {},
   "outputs": [],
   "source": [
    "pairwise_alignment1 = Alignment([\"AAACAAA\", \"AAAGAAA\"],\n",
    "                                np.array([[0, 3, 4, 4, 7], [0, 3, 3, 4, 7]]))\n",
    "pairwise_alignment2 = Alignment([\"AAACAAA\", \"AAAGAAA\"],\n",
    "                                np.array([[0, 3, 3, 4, 7], [0, 3, 4, 4, 7]]))"
   ]
  },
  {
   "cell_type": "code",
   "execution_count": 58,
   "metadata": {},
   "outputs": [
    {
     "name": "stdout",
     "output_type": "stream",
     "text": [
      "target            0 AAAC-AAA 7\n",
      "                  0 |||--||| 8\n",
      "query             0 AAA-GAAA 7\n",
      "\n"
     ]
    }
   ],
   "source": [
    "print(pairwise_alignment1)"
   ]
  },
  {
   "cell_type": "code",
   "execution_count": 59,
   "metadata": {},
   "outputs": [
    {
     "name": "stdout",
     "output_type": "stream",
     "text": [
      "target            0 AAA-CAAA 7\n",
      "                  0 |||--||| 8\n",
      "query             0 AAAG-AAA 7\n",
      "\n"
     ]
    }
   ],
   "source": [
    "print(pairwise_alignment2)"
   ]
  },
  {
   "cell_type": "code",
   "execution_count": 60,
   "metadata": {},
   "outputs": [
    {
     "data": {
      "text/plain": [
       "array([[[0, 3],\n",
       "        [4, 7]],\n",
       "\n",
       "       [[0, 3],\n",
       "        [4, 7]]])"
      ]
     },
     "execution_count": 60,
     "metadata": {},
     "output_type": "execute_result"
    }
   ],
   "source": [
    "pairwise_alignment1.aligned"
   ]
  },
  {
   "cell_type": "code",
   "execution_count": 61,
   "metadata": {},
   "outputs": [
    {
     "data": {
      "text/plain": [
       "array([[[0, 3],\n",
       "        [4, 7]],\n",
       "\n",
       "       [[0, 3],\n",
       "        [4, 7]]])"
      ]
     },
     "execution_count": 61,
     "metadata": {},
     "output_type": "execute_result"
    }
   ],
   "source": [
    "pairwise_alignment2.aligned"
   ]
  },
  {
   "cell_type": "code",
   "execution_count": 62,
   "metadata": {},
   "outputs": [
    {
     "name": "stdout",
     "output_type": "stream",
     "text": [
      "                  1 CCGGTTTT 9\n",
      "                  0 AG-TTT-- 5\n",
      "                  0 AGGTTT-- 6\n",
      "\n"
     ]
    }
   ],
   "source": [
    "print(alignment)"
   ]
  },
  {
   "cell_type": "code",
   "execution_count": 63,
   "metadata": {},
   "outputs": [
    {
     "data": {
      "text/plain": [
       "array([[ 1,  2,  3,  4,  5,  6,  7,  8],\n",
       "       [ 0,  1, -1,  2,  3,  4, -1, -1],\n",
       "       [ 0,  1,  2,  3,  4,  5, -1, -1]])"
      ]
     },
     "execution_count": 63,
     "metadata": {},
     "output_type": "execute_result"
    }
   ],
   "source": [
    "alignment.indices"
   ]
  },
  {
   "cell_type": "code",
   "execution_count": 64,
   "metadata": {},
   "outputs": [
    {
     "data": {
      "text/plain": [
       "['CCCGGTTTTT', 'AGTTTAAAA', 'AGGTTT']"
      ]
     },
     "execution_count": 64,
     "metadata": {},
     "output_type": "execute_result"
    }
   ],
   "source": [
    "alignment.sequences"
   ]
  },
  {
   "cell_type": "code",
   "execution_count": 65,
   "metadata": {},
   "outputs": [
    {
     "data": {
      "text/plain": [
       "[array([-1,  0,  1,  2,  3,  4,  5,  6,  7, -1]),\n",
       " array([ 0,  1,  3,  4,  5, -1, -1, -1, -1]),\n",
       " array([0, 1, 2, 3, 4, 5])]"
      ]
     },
     "execution_count": 65,
     "metadata": {},
     "output_type": "execute_result"
    }
   ],
   "source": [
    "alignment.inverse_indices"
   ]
  },
  {
   "cell_type": "markdown",
   "metadata": {},
   "source": [
    "6.3.4 Counting identities, mismatches, and gaps"
   ]
  },
  {
   "cell_type": "code",
   "execution_count": 66,
   "metadata": {},
   "outputs": [
    {
     "name": "stdout",
     "output_type": "stream",
     "text": [
      "target            1 CCGGTTTT 9\n",
      "                  0 ..-.||-- 8\n",
      "query             0 AG-TTT-- 5\n",
      "\n"
     ]
    }
   ],
   "source": [
    "print(pairwise_alignment)"
   ]
  },
  {
   "cell_type": "code",
   "execution_count": 67,
   "metadata": {},
   "outputs": [
    {
     "data": {
      "text/plain": [
       "AlignmentCounts(gaps=3, identities=2, mismatches=3)"
      ]
     },
     "execution_count": 67,
     "metadata": {},
     "output_type": "execute_result"
    }
   ],
   "source": [
    "pairwise_alignment.counts()"
   ]
  },
  {
   "cell_type": "code",
   "execution_count": 69,
   "metadata": {},
   "outputs": [
    {
     "name": "stdout",
     "output_type": "stream",
     "text": [
      "                  1 CCGGTTTT 9\n",
      "                  0 AG-TTT-- 5\n",
      "                  0 AGGTTT-- 6\n",
      "\n"
     ]
    }
   ],
   "source": [
    "print(alignment)"
   ]
  },
  {
   "cell_type": "code",
   "execution_count": 70,
   "metadata": {},
   "outputs": [
    {
     "data": {
      "text/plain": [
       "AlignmentCounts(gaps=8, identities=10, mismatches=6)"
      ]
     },
     "execution_count": 70,
     "metadata": {},
     "output_type": "execute_result"
    }
   ],
   "source": [
    "alignment.counts()"
   ]
  },
  {
   "cell_type": "markdown",
   "metadata": {},
   "source": [
    "6.3.5 Letter frequencies"
   ]
  },
  {
   "cell_type": "code",
   "execution_count": 71,
   "metadata": {},
   "outputs": [
    {
     "data": {
      "text/plain": [
       "{'C': array([1., 1., 0., 0., 0., 0., 0., 0.]),\n",
       " 'G': array([0., 2., 2., 1., 0., 0., 0., 0.]),\n",
       " 'T': array([0., 0., 0., 2., 3., 3., 1., 1.]),\n",
       " 'A': array([2., 0., 0., 0., 0., 0., 0., 0.]),\n",
       " '-': array([0., 0., 1., 0., 0., 0., 2., 2.])}"
      ]
     },
     "execution_count": 71,
     "metadata": {},
     "output_type": "execute_result"
    }
   ],
   "source": [
    "alignment.frequencies"
   ]
  },
  {
   "cell_type": "markdown",
   "metadata": {},
   "source": [
    "6.3.6 Substitutions"
   ]
  },
  {
   "cell_type": "code",
   "execution_count": 73,
   "metadata": {},
   "outputs": [
    {
     "name": "stdout",
     "output_type": "stream",
     "text": [
      "    A   C   G   T\n",
      "A 1.0 0.0 0.0 0.0\n",
      "C 2.0 0.0 2.0 0.0\n",
      "G 0.0 0.0 2.0 2.0\n",
      "T 0.0 0.0 0.0 7.0\n",
      "\n"
     ]
    }
   ],
   "source": [
    "m = alignment.substitutions\n",
    "print(m)"
   ]
  },
  {
   "cell_type": "code",
   "execution_count": 74,
   "metadata": {},
   "outputs": [
    {
     "data": {
      "text/plain": [
       "2.0"
      ]
     },
     "execution_count": 74,
     "metadata": {},
     "output_type": "execute_result"
    }
   ],
   "source": [
    "m[\"C\", \"A\"]"
   ]
  },
  {
   "cell_type": "code",
   "execution_count": 76,
   "metadata": {},
   "outputs": [
    {
     "data": {
      "text/plain": [
       "0.0"
      ]
     },
     "execution_count": 76,
     "metadata": {},
     "output_type": "execute_result"
    }
   ],
   "source": [
    "m[\"A\", \"C\"]"
   ]
  },
  {
   "cell_type": "code",
   "execution_count": 77,
   "metadata": {},
   "outputs": [
    {
     "name": "stdout",
     "output_type": "stream",
     "text": [
      "    A   C   G   T\n",
      "A 1.0 1.0 0.0 0.0\n",
      "C 1.0 0.0 1.0 0.0\n",
      "G 0.0 1.0 2.0 1.0\n",
      "T 0.0 0.0 1.0 7.0\n",
      "\n"
     ]
    }
   ],
   "source": [
    "m += m.transpose()\n",
    "m /= 2.0\n",
    "print(m)"
   ]
  },
  {
   "cell_type": "code",
   "execution_count": 78,
   "metadata": {},
   "outputs": [
    {
     "data": {
      "text/plain": [
       "1.0"
      ]
     },
     "execution_count": 78,
     "metadata": {},
     "output_type": "execute_result"
    }
   ],
   "source": [
    "m[\"A\", \"C\"]"
   ]
  },
  {
   "cell_type": "code",
   "execution_count": 79,
   "metadata": {},
   "outputs": [
    {
     "data": {
      "text/plain": [
       "1.0"
      ]
     },
     "execution_count": 79,
     "metadata": {},
     "output_type": "execute_result"
    }
   ],
   "source": [
    "m[\"C\", \"A\"]"
   ]
  },
  {
   "cell_type": "markdown",
   "metadata": {},
   "source": [
    "6.3.7 Alignments as arrays"
   ]
  },
  {
   "cell_type": "code",
   "execution_count": 80,
   "metadata": {},
   "outputs": [
    {
     "data": {
      "text/plain": [
       "(3, 8)"
      ]
     },
     "execution_count": 80,
     "metadata": {},
     "output_type": "execute_result"
    }
   ],
   "source": [
    "align_array = np.array(alignment)\n",
    "align_array.shape"
   ]
  },
  {
   "cell_type": "code",
   "execution_count": 81,
   "metadata": {},
   "outputs": [
    {
     "data": {
      "text/plain": [
       "array([[b'C', b'C', b'G', b'G', b'T', b'T', b'T', b'T'],\n",
       "       [b'A', b'G', b'-', b'T', b'T', b'T', b'-', b'-'],\n",
       "       [b'A', b'G', b'G', b'T', b'T', b'T', b'-', b'-']], dtype='|S1')"
      ]
     },
     "execution_count": 81,
     "metadata": {},
     "output_type": "execute_result"
    }
   ],
   "source": [
    "align_array"
   ]
  },
  {
   "cell_type": "code",
   "execution_count": 82,
   "metadata": {},
   "outputs": [
    {
     "data": {
      "text/plain": [
       "array([['C', 'C', 'G', 'G', 'T', 'T', 'T', 'T'],\n",
       "       ['A', 'G', '-', 'T', 'T', 'T', '-', '-'],\n",
       "       ['A', 'G', 'G', 'T', 'T', 'T', '-', '-']], dtype='<U1')"
      ]
     },
     "execution_count": 82,
     "metadata": {},
     "output_type": "execute_result"
    }
   ],
   "source": [
    "align_array = np.array(alignment, dtype=\"U\")\n",
    "align_array"
   ]
  },
  {
   "cell_type": "markdown",
   "metadata": {},
   "source": [
    "6.4 Operations on an alignment"
   ]
  },
  {
   "cell_type": "code",
   "execution_count": 83,
   "metadata": {},
   "outputs": [
    {
     "name": "stdout",
     "output_type": "stream",
     "text": [
      "                  1 CCGGTTTT 9\n",
      "                  0 AG-TTT-- 5\n",
      "                  0 AGGTTT-- 6\n",
      "\n"
     ]
    }
   ],
   "source": [
    "print(alignment)"
   ]
  },
  {
   "cell_type": "code",
   "execution_count": 84,
   "metadata": {},
   "outputs": [
    {
     "name": "stdout",
     "output_type": "stream",
     "text": [
      "                  0 AGGTTT-- 6\n",
      "                  0 AG-TTT-- 5\n",
      "                  1 CCGGTTTT 9\n",
      "\n"
     ]
    }
   ],
   "source": [
    "alignment.sort()\n",
    "print(alignment)"
   ]
  },
  {
   "cell_type": "code",
   "execution_count": 85,
   "metadata": {},
   "outputs": [
    {
     "name": "stdout",
     "output_type": "stream",
     "text": [
      "                  0 AG-TTT-- 5\n",
      "                  0 AGGTTT-- 6\n",
      "                  1 CCGGTTTT 9\n",
      "\n"
     ]
    }
   ],
   "source": [
    "from Bio.SeqUtils import gc_fraction\n",
    "alignment.sort(key=gc_fraction)\n",
    "print(alignment)"
   ]
  },
  {
   "cell_type": "code",
   "execution_count": 86,
   "metadata": {},
   "outputs": [
    {
     "name": "stdout",
     "output_type": "stream",
     "text": [
      "                  1 CCGGTTTT 9\n",
      "                  0 AGGTTT-- 6\n",
      "                  0 AG-TTT-- 5\n",
      "\n"
     ]
    }
   ],
   "source": [
    "alignment.sort(key=gc_fraction, reverse=True)\n",
    "print(alignment)"
   ]
  },
  {
   "cell_type": "markdown",
   "metadata": {},
   "source": [
    "6.4.2 Reverse-complementing the alignment"
   ]
  },
  {
   "cell_type": "code",
   "execution_count": 87,
   "metadata": {},
   "outputs": [
    {
     "data": {
      "text/plain": [
       "['CCCGGTTTTT', 'AGGTTT', 'AGTTTAAAA']"
      ]
     },
     "execution_count": 87,
     "metadata": {},
     "output_type": "execute_result"
    }
   ],
   "source": [
    "alignment.sequences"
   ]
  },
  {
   "cell_type": "code",
   "execution_count": 88,
   "metadata": {},
   "outputs": [
    {
     "name": "stdout",
     "output_type": "stream",
     "text": [
      "['AAAAACCGGG', 'AAACCT', 'TTTTAAACT']\n"
     ]
    }
   ],
   "source": [
    "rc_alignment = alignment.reverse_complement()\n",
    "print(rc_alignment.sequences)"
   ]
  },
  {
   "cell_type": "code",
   "execution_count": 90,
   "metadata": {},
   "outputs": [
    {
     "name": "stdout",
     "output_type": "stream",
     "text": [
      "                  1 AAAACCGG 9\n",
      "                  0 --AAACCT 6\n",
      "                  4 --AAA-CT 9\n",
      "\n"
     ]
    }
   ],
   "source": [
    "print(rc_alignment)"
   ]
  },
  {
   "cell_type": "code",
   "execution_count": 91,
   "metadata": {},
   "outputs": [
    {
     "data": {
      "text/plain": [
       "['CCCGGTTTTT', 'AGGTTT', 'AGTTTAAAA']"
      ]
     },
     "execution_count": 91,
     "metadata": {},
     "output_type": "execute_result"
    }
   ],
   "source": [
    "alignment[:, :4].sequences"
   ]
  },
  {
   "cell_type": "code",
   "execution_count": 92,
   "metadata": {},
   "outputs": [
    {
     "name": "stdout",
     "output_type": "stream",
     "text": [
      "                  1 CCGG 5\n",
      "                  0 AGGT 4\n",
      "                  0 AG-T 3\n",
      "\n"
     ]
    }
   ],
   "source": [
    "print(alignment[:, :4])"
   ]
  },
  {
   "cell_type": "code",
   "execution_count": 94,
   "metadata": {},
   "outputs": [
    {
     "data": {
      "text/plain": [
       "['AAAAACCGGG', 'AAACCT', 'TTTTAAACT']"
      ]
     },
     "execution_count": 94,
     "metadata": {},
     "output_type": "execute_result"
    }
   ],
   "source": [
    "rc_alignment = alignment[:, :4].reverse_complement()\n",
    "rc_alignment[:, :4].sequences"
   ]
  },
  {
   "cell_type": "code",
   "execution_count": 95,
   "metadata": {},
   "outputs": [
    {
     "name": "stdout",
     "output_type": "stream",
     "text": [
      "                  5 CCGG 9\n",
      "                  2 ACCT 6\n",
      "                  6 A-CT 9\n",
      "\n"
     ]
    }
   ],
   "source": [
    "print(rc_alignment[:, :4])"
   ]
  },
  {
   "cell_type": "markdown",
   "metadata": {},
   "source": [
    "6.4.3 Adding alignments"
   ]
  },
  {
   "cell_type": "code",
   "execution_count": 104,
   "metadata": {},
   "outputs": [],
   "source": [
    "from Bio.Seq import Seq\n",
    "from Bio.SeqRecord import SeqRecord\n",
    "a1 = SeqRecord(Seq(\"AAAAC\"), id=\"Alpha\")\n",
    "b1 = SeqRecord(Seq(\"AAAC\"), id=\"Beta\")\n",
    "c1 = SeqRecord(Seq(\"AAAAG\"), id=\"Gamma\")\n",
    "a2 = SeqRecord(Seq(\"GTT\"), id=\"Alpha\")\n",
    "b2 = SeqRecord(Seq(\"TT\"), id=\"Beta\")\n",
    "c2 = SeqRecord(Seq(\"GT\"), id=\"Gamma\")\n",
    "left = Alignment(\n",
    "    [a1, b1, c1], coordinates=np.array([[0, 3, 4, 5], [0, 3, 3, 4], [0, 3, 4, 5]])\n",
    ")\n",
    "\n",
    "left.annotations = {\"tool\": \"demo\", \"name\": \"start\"}\n",
    "left.column_annotations = {\"stats\": \"CCCXC\"}\n",
    "\n",
    "right = Alignment(\n",
    "    [a2, b2, c2], coordinates=np.array([[0, 1, 2, 3], [0, 0, 1, 2], [0, 1, 1, 2]])\n",
    ")\n",
    "right.annotations = {\"tool\": \"demo\", \"name\": \"end\"}\n",
    "right.column_annotations = {\"stats\": \"CXC\"}"
   ]
  },
  {
   "cell_type": "code",
   "execution_count": 103,
   "metadata": {},
   "outputs": [
    {
     "name": "stdout",
     "output_type": "stream",
     "text": [
      "Alpha             0 AAAAC 5\n",
      "Beta              0 AAA-C 4\n",
      "Gamma             0 AAAAG 5\n",
      "\n"
     ]
    }
   ],
   "source": [
    "print(left)"
   ]
  },
  {
   "cell_type": "code",
   "execution_count": 106,
   "metadata": {},
   "outputs": [
    {
     "name": "stdout",
     "output_type": "stream",
     "text": [
      "Alpha             0 GTT 3\n",
      "Beta              0 -TT 2\n",
      "Gamma             0 G-T 2\n",
      "\n"
     ]
    }
   ],
   "source": [
    "print(right)"
   ]
  },
  {
   "cell_type": "code",
   "execution_count": 107,
   "metadata": {},
   "outputs": [
    {
     "name": "stdout",
     "output_type": "stream",
     "text": [
      "Alpha             0 AAAACGTT 8\n",
      "Beta              0 AAA-C-TT 6\n",
      "Gamma             0 AAAAGG-T 7\n",
      "\n"
     ]
    }
   ],
   "source": [
    "combined = left + right\n",
    "print(combined)"
   ]
  },
  {
   "cell_type": "code",
   "execution_count": 108,
   "metadata": {},
   "outputs": [
    {
     "data": {
      "text/plain": [
       "3"
      ]
     },
     "execution_count": 108,
     "metadata": {},
     "output_type": "execute_result"
    }
   ],
   "source": [
    "len(left)"
   ]
  },
  {
   "cell_type": "code",
   "execution_count": 109,
   "metadata": {},
   "outputs": [
    {
     "data": {
      "text/plain": [
       "3"
      ]
     },
     "execution_count": 109,
     "metadata": {},
     "output_type": "execute_result"
    }
   ],
   "source": [
    "len(right)"
   ]
  },
  {
   "cell_type": "code",
   "execution_count": 110,
   "metadata": {},
   "outputs": [
    {
     "data": {
      "text/plain": [
       "3"
      ]
     },
     "execution_count": 110,
     "metadata": {},
     "output_type": "execute_result"
    }
   ],
   "source": [
    "len(combined)"
   ]
  },
  {
   "cell_type": "code",
   "execution_count": 111,
   "metadata": {},
   "outputs": [
    {
     "data": {
      "text/plain": [
       "{'tool': 'demo'}"
      ]
     },
     "execution_count": 111,
     "metadata": {},
     "output_type": "execute_result"
    }
   ],
   "source": [
    "combined.annotations"
   ]
  },
  {
   "cell_type": "code",
   "execution_count": 112,
   "metadata": {},
   "outputs": [
    {
     "data": {
      "text/plain": [
       "{'stats': 'CCCXCCXC'}"
      ]
     },
     "execution_count": 112,
     "metadata": {},
     "output_type": "execute_result"
    }
   ],
   "source": [
    "combined.column_annotations"
   ]
  },
  {
   "cell_type": "markdown",
   "metadata": {},
   "source": [
    "6.4.4 Mapping a pairwise sequence alignment"
   ]
  },
  {
   "cell_type": "code",
   "execution_count": 113,
   "metadata": {},
   "outputs": [
    {
     "name": "stdout",
     "output_type": "stream",
     "text": [
      "target            8 CCCCCCCAAAAAAAAAAAGGGGGG 32\n",
      "                  0 |||||||-----------|||||| 24\n",
      "query             0 CCCCCCC-----------GGGGGG 13\n",
      "\n"
     ]
    }
   ],
   "source": [
    "chromosome = \"AAAAAAAACCCCCCCAAAAAAAAAAAGGGGGGAAAAAAAA\"\n",
    "transcript = \"CCCCCCCGGGGGG\"\n",
    "sequences1 = [chromosome, transcript]\n",
    "coordinates1 = np.array([[8, 15, 26, 32], [0, 7, 7, 13]])\n",
    "alignment1 = Alignment(sequences1, coordinates1)\n",
    "print(alignment1)"
   ]
  },
  {
   "cell_type": "code",
   "execution_count": 114,
   "metadata": {},
   "outputs": [
    {
     "name": "stdout",
     "output_type": "stream",
     "text": [
      "target            3 CCCCGGGG 11\n",
      "                  0 ||||||||  8\n",
      "query             0 CCCCGGGG  8\n",
      "\n"
     ]
    }
   ],
   "source": [
    "rnaseq = \"CCCCGGGG\"\n",
    "sequences2 = [transcript, rnaseq]\n",
    "coordinates2 = np.array([[3, 11], [0, 8]])\n",
    "alignment2 = Alignment(sequences2, coordinates2)\n",
    "print(alignment2)"
   ]
  },
  {
   "cell_type": "code",
   "execution_count": 115,
   "metadata": {},
   "outputs": [
    {
     "name": "stdout",
     "output_type": "stream",
     "text": [
      "target           11 CCCCAAAAAAAAAAAGGGG 30\n",
      "                  0 ||||-----------|||| 19\n",
      "query             0 CCCC-----------GGGG  8\n",
      "\n"
     ]
    }
   ],
   "source": [
    "alignment3 = alignment1.map(alignment2)\n",
    "print(alignment3)"
   ]
  },
  {
   "cell_type": "code",
   "execution_count": 116,
   "metadata": {},
   "outputs": [
    {
     "data": {
      "text/plain": [
       "array([[11, 15, 26, 30],\n",
       "       [ 0,  4,  4,  8]])"
      ]
     },
     "execution_count": 116,
     "metadata": {},
     "output_type": "execute_result"
    }
   ],
   "source": [
    "alignment3.coordinates"
   ]
  },
  {
   "cell_type": "code",
   "execution_count": 117,
   "metadata": {},
   "outputs": [
    {
     "data": {
      "text/plain": [
       "'8\\t0\\t0\\t0\\t0\\t0\\t1\\t11\\t+\\tquery\\t8\\t0\\t8\\ttarget\\t40\\t11\\t30\\t2\\t4,4,\\t0,4,\\t11,26,\\n'"
      ]
     },
     "execution_count": 117,
     "metadata": {},
     "output_type": "execute_result"
    }
   ],
   "source": [
    "format(alignment3, \"psl\")"
   ]
  },
  {
   "cell_type": "code",
   "execution_count": 119,
   "metadata": {},
   "outputs": [
    {
     "data": {
      "text/plain": [
       "'chr1'"
      ]
     },
     "execution_count": 119,
     "metadata": {},
     "output_type": "execute_result"
    }
   ],
   "source": [
    "from Bio import Align\n",
    "chain = Align.read(\"panTro5ToPanTro6.over.chain\", \"chain\")\n",
    "chain.sequences[0].id"
   ]
  },
  {
   "cell_type": "code",
   "execution_count": 120,
   "metadata": {},
   "outputs": [
    {
     "data": {
      "text/plain": [
       "228573443"
      ]
     },
     "execution_count": 120,
     "metadata": {},
     "output_type": "execute_result"
    }
   ],
   "source": [
    "len(chain.sequences[0].seq)"
   ]
  },
  {
   "cell_type": "code",
   "execution_count": 121,
   "metadata": {},
   "outputs": [
    {
     "data": {
      "text/plain": [
       "'chr1'"
      ]
     },
     "execution_count": 121,
     "metadata": {},
     "output_type": "execute_result"
    }
   ],
   "source": [
    "chain.sequences[1].id"
   ]
  },
  {
   "cell_type": "code",
   "execution_count": 124,
   "metadata": {},
   "outputs": [
    {
     "data": {
      "text/plain": [
       "224244399"
      ]
     },
     "execution_count": 124,
     "metadata": {},
     "output_type": "execute_result"
    }
   ],
   "source": [
    "len(chain.sequences[1].seq)"
   ]
  },
  {
   "cell_type": "code",
   "execution_count": 125,
   "metadata": {},
   "outputs": [
    {
     "name": "stdout",
     "output_type": "stream",
     "text": [
      "[[122250000 122250400 122250400 ... 122909818 122909819 122909835]\n",
      " [111776384 111776784 111776785 ... 112019962 112019962 112019978]]\n"
     ]
    }
   ],
   "source": [
    "import numpy as np\n",
    "np.set_printoptions(threshold=5) # print 5 array elements per row\n",
    "print(chain.coordinates) # doctest:+ELLIPSIS"
   ]
  },
  {
   "cell_type": "code",
   "execution_count": 127,
   "metadata": {},
   "outputs": [
    {
     "data": {
      "text/plain": [
       "'chr1'"
      ]
     },
     "execution_count": 127,
     "metadata": {},
     "output_type": "execute_result"
    }
   ],
   "source": [
    "transcript = Align.read(\"est.panTro5.psl\", \"psl\")\n",
    "transcript.sequences[0].id\n",
    "# 'chr1'"
   ]
  },
  {
   "cell_type": "code",
   "execution_count": 128,
   "metadata": {},
   "outputs": [
    {
     "data": {
      "text/plain": [
       "228573443"
      ]
     },
     "execution_count": 128,
     "metadata": {},
     "output_type": "execute_result"
    }
   ],
   "source": [
    "len(transcript.sequences[0].seq)"
   ]
  },
  {
   "cell_type": "code",
   "execution_count": 130,
   "metadata": {},
   "outputs": [
    {
     "data": {
      "text/plain": [
       "'DC525629'"
      ]
     },
     "execution_count": 130,
     "metadata": {},
     "output_type": "execute_result"
    }
   ],
   "source": [
    "\n",
    "transcript.sequences[1].id"
   ]
  },
  {
   "cell_type": "code",
   "execution_count": 131,
   "metadata": {},
   "outputs": [
    {
     "data": {
      "text/plain": [
       "407"
      ]
     },
     "execution_count": 131,
     "metadata": {},
     "output_type": "execute_result"
    }
   ],
   "source": [
    "len(transcript.sequences[1].seq)"
   ]
  },
  {
   "cell_type": "code",
   "execution_count": 133,
   "metadata": {},
   "outputs": [
    {
     "name": "stdout",
     "output_type": "stream",
     "text": [
      "[[122835789 122835847 122840993 122841145 122907212 122907314]\n",
      " [       32        90        90       242       242       344]]\n"
     ]
    }
   ],
   "source": [
    "print(transcript.coordinates)"
   ]
  },
  {
   "cell_type": "code",
   "execution_count": 134,
   "metadata": {},
   "outputs": [
    {
     "data": {
      "text/plain": [
       "True"
      ]
     },
     "execution_count": 134,
     "metadata": {},
     "output_type": "execute_result"
    }
   ],
   "source": [
    "len(chain.sequences[0].seq) == len(transcript.sequences[0].seq)"
   ]
  },
  {
   "cell_type": "code",
   "execution_count": 135,
   "metadata": {},
   "outputs": [
    {
     "data": {
      "text/plain": [
       "'chr1'"
      ]
     },
     "execution_count": 135,
     "metadata": {},
     "output_type": "execute_result"
    }
   ],
   "source": [
    "chain = chain[::-1]\n",
    "chain.sequences[0].id"
   ]
  },
  {
   "cell_type": "code",
   "execution_count": 136,
   "metadata": {},
   "outputs": [
    {
     "data": {
      "text/plain": [
       "224244399"
      ]
     },
     "execution_count": 136,
     "metadata": {},
     "output_type": "execute_result"
    }
   ],
   "source": [
    "len(chain.sequences[0].seq)"
   ]
  },
  {
   "cell_type": "code",
   "execution_count": 137,
   "metadata": {},
   "outputs": [
    {
     "data": {
      "text/plain": [
       "'chr1'"
      ]
     },
     "execution_count": 137,
     "metadata": {},
     "output_type": "execute_result"
    }
   ],
   "source": [
    "chain.sequences[1].id"
   ]
  },
  {
   "cell_type": "code",
   "execution_count": 138,
   "metadata": {},
   "outputs": [
    {
     "data": {
      "text/plain": [
       "228573443"
      ]
     },
     "execution_count": 138,
     "metadata": {},
     "output_type": "execute_result"
    }
   ],
   "source": [
    "len(chain.sequences[1].seq)"
   ]
  },
  {
   "cell_type": "code",
   "execution_count": 139,
   "metadata": {},
   "outputs": [
    {
     "name": "stdout",
     "output_type": "stream",
     "text": [
      "[[111776384 111776784 111776785 ... 112019962 112019962 112019978]\n",
      " [122250000 122250400 122250400 ... 122909818 122909819 122909835]]\n"
     ]
    }
   ],
   "source": [
    "print(chain.coordinates)"
   ]
  },
  {
   "cell_type": "code",
   "execution_count": 140,
   "metadata": {},
   "outputs": [],
   "source": [
    "np.set_printoptions(threshold=1000)"
   ]
  },
  {
   "cell_type": "markdown",
   "metadata": {},
   "source": [
    "Now we can get the coordinates of DC525629 against chimpanzee genome assembly panTro6 by calling\n",
    "chain.map, with transcript as the argumen"
   ]
  },
  {
   "cell_type": "code",
   "execution_count": 141,
   "metadata": {},
   "outputs": [
    {
     "data": {
      "text/plain": [
       "'chr1'"
      ]
     },
     "execution_count": 141,
     "metadata": {},
     "output_type": "execute_result"
    }
   ],
   "source": [
    "lifted_transcript = chain.map(transcript)\n",
    "lifted_transcript.sequences[0].id"
   ]
  },
  {
   "cell_type": "code",
   "execution_count": 142,
   "metadata": {},
   "outputs": [
    {
     "data": {
      "text/plain": [
       "224244399"
      ]
     },
     "execution_count": 142,
     "metadata": {},
     "output_type": "execute_result"
    }
   ],
   "source": [
    "len(lifted_transcript.sequences[0].seq)"
   ]
  },
  {
   "cell_type": "code",
   "execution_count": 143,
   "metadata": {},
   "outputs": [
    {
     "data": {
      "text/plain": [
       "'DC525629'"
      ]
     },
     "execution_count": 143,
     "metadata": {},
     "output_type": "execute_result"
    }
   ],
   "source": [
    "lifted_transcript.sequences[1].id"
   ]
  },
  {
   "cell_type": "code",
   "execution_count": 144,
   "metadata": {},
   "outputs": [
    {
     "data": {
      "text/plain": [
       "407"
      ]
     },
     "execution_count": 144,
     "metadata": {},
     "output_type": "execute_result"
    }
   ],
   "source": [
    "len(lifted_transcript.sequences[1].seq)"
   ]
  },
  {
   "cell_type": "code",
   "execution_count": 145,
   "metadata": {},
   "outputs": [
    {
     "name": "stdout",
     "output_type": "stream",
     "text": [
      "[[111982717 111982775 111987921 111988073 112009200 112009302]\n",
      " [       32        90        90       242       242       344]]\n"
     ]
    }
   ],
   "source": [
    " print(lifted_transcript.coordinates)"
   ]
  },
  {
   "cell_type": "markdown",
   "metadata": {},
   "source": [
    "This shows that nucleotide range 32:344 of expressed sequence tag DC525629 aligns to range 111982717:112009302\n",
    "of chr1 of chimpanzee genome assembly panTro6. Note that the genome span of DC525629 on chimpanzee genome assembly panTro5 is 122907314 - 122835789 = 71525 bp, while on panTro6 the genome span is\n",
    "112009302 - 111982717 = 26585 bp.\n",
    "\n",
    "\n",
    "这显示了表达序列标签DC525629的核苷酸范围32:344与黑猩猩基因组装配panTro6中chr1的范围111982717:112009302进行了比对。注意，在黑猩猩基因组装配panTro5上，DC525629的基因组跨度是122907314 - 122835789 = 71525 bp，而在panTro6上的基因组跨度是112009302 - 111982717 = 26585 bp。"
   ]
  },
  {
   "cell_type": "markdown",
   "metadata": {},
   "source": [
    "6.4.5 Mapping a multiple sequence alignment"
   ]
  },
  {
   "cell_type": "markdown",
   "metadata": {},
   "source": [
    "Consider a multiple alignment of genomic sequences of chimpanzee, human, macaque, marmoset, mouse,\n",
    "and rat:"
   ]
  },
  {
   "cell_type": "code",
   "execution_count": 146,
   "metadata": {},
   "outputs": [
    {
     "name": "stdout",
     "output_type": "stream",
     "text": [
      "panTro5.chr1 228573443\n",
      "hg19.chr1 249250621\n",
      "rheMac8.chr1 225584828\n",
      "calJac3.chr18 47448759\n",
      "mm10.chr3 160039680\n",
      "rn6.chr2 266435125\n"
     ]
    }
   ],
   "source": [
    "from Bio import Align\n",
    "path = \"panTro5.maf\"\n",
    "genome_alignment = Align.read(path, \"maf\")\n",
    "for record in genome_alignment.sequences:\n",
    "    print(record.id, len(record.seq))"
   ]
  },
  {
   "cell_type": "code",
   "execution_count": 147,
   "metadata": {},
   "outputs": [
    {
     "data": {
      "text/plain": [
       "array([[133922962, 133922962, 133922970, 133922970, 133922972, 133922972,\n",
       "        133922995, 133922998, 133923010],\n",
       "       [155784573, 155784573, 155784581, 155784581, 155784583, 155784583,\n",
       "        155784606, 155784609, 155784621],\n",
       "       [130383910, 130383910, 130383918, 130383918, 130383920, 130383920,\n",
       "        130383943, 130383946, 130383958],\n",
       "       [  9790455,   9790455,   9790463,   9790463,   9790465,   9790465,\n",
       "          9790488,   9790491,   9790503],\n",
       "       [ 88858039,  88858036,  88858028,  88858026,  88858024,  88858020,\n",
       "         88857997,  88857997,  88857985],\n",
       "       [188162970, 188162967, 188162959, 188162959, 188162957, 188162953,\n",
       "        188162930, 188162930, 188162918]])"
      ]
     },
     "execution_count": 147,
     "metadata": {},
     "output_type": "execute_result"
    }
   ],
   "source": [
    "genome_alignment.coordinates"
   ]
  },
  {
   "cell_type": "code",
   "execution_count": 148,
   "metadata": {},
   "outputs": [
    {
     "name": "stdout",
     "output_type": "stream",
     "text": [
      "panTro5.c 133922962 ---ACTAGTTA--CA----GTAACAGAAAATAAAATTTAAATAGAAACTTAAAggcc\n",
      "hg19.chr1 155784573 ---ACTAGTTA--CA----GTAACAGAAAATAAAATTTAAATAGAAACTTAAAggcc\n",
      "rheMac8.c 130383910 ---ACTAGTTA--CA----GTAACAGAAAATAAAATTTAAATAGAAACTTAAAggcc\n",
      "calJac3.c   9790455 ---ACTAGTTA--CA----GTAACAGAAAATAAAATTTAAATAGAAGCTTAAAggct\n",
      "mm10.chr3  88858039 TATAATAATTGTATATGTCACAGAAAAAAATGAATTTTCAAT---GACTTAATAGCC\n",
      "rn6.chr2  188162970 TACAATAATTG--TATGTCATAGAAAAAAATGAATTTTCAAT---AACTTAATAGCC\n",
      "\n",
      "panTro5.c 133923010\n",
      "hg19.chr1 155784621\n",
      "rheMac8.c 130383958\n",
      "calJac3.c   9790503\n",
      "mm10.chr3  88857985\n",
      "rn6.chr2  188162918\n",
      "\n"
     ]
    }
   ],
   "source": [
    "print(genome_alignment)"
   ]
  },
  {
   "cell_type": "code",
   "execution_count": 149,
   "metadata": {},
   "outputs": [
    {
     "name": "stdout",
     "output_type": "stream",
     "text": [
      "chr1 [133919957 133924947 133924947 133926309 133926312 133932620]\n",
      "chr1 [155184381 156354347 156354348 157128497 157128497 157137496]\n",
      "chr1 [130382477 130383872 130383872 130384222 130384222 130388520]\n",
      "chr18 [9786631 9787941 9788508 9788508 9795062 9795065 9795737]\n",
      "chr3 [66807541 74196805 74196831 94707528 94707528 94708176 94708178 94708718]\n",
      "chr2 [188111581 188158351 188158351 188171225 188171225 188228261 188228261\n",
      " 188236997]\n"
     ]
    }
   ],
   "source": [
    "paths = [\n",
    "\"panTro5ToPanTro6.chain\",\n",
    "\"hg19ToHg38.chain\",\n",
    "\"rheMac8ToRheMac10.chain\",\n",
    "\"calJac3ToCalJac4.chain\",\n",
    "\"mm10ToMm39.chain\",\n",
    "\"rn6ToRn7.chain\",\n",
    "]\n",
    "liftover_alignments = [Align.read(path, \"chain\") for path in paths]\n",
    "for liftover_alignment in liftover_alignments:\n",
    "    print(liftover_alignment.target.id, liftover_alignment.coordinates[0, :])"
   ]
  },
  {
   "cell_type": "markdown",
   "metadata": {},
   "source": [
    "Note that the order of species is the same in liftover_alignments and genome_alignment.sequences.\n",
    "Now we can lift over the multiple sequence alignment to the new genome assembly versions"
   ]
  },
  {
   "cell_type": "code",
   "execution_count": 150,
   "metadata": {},
   "outputs": [
    {
     "name": "stdout",
     "output_type": "stream",
     "text": [
      "chr1 224244399\n",
      "chr1 248956422\n",
      "chr1 223616942\n",
      "chr18 47031477\n",
      "chr3 159745316\n",
      "chr2 249053267\n"
     ]
    }
   ],
   "source": [
    "genome_alignment = genome_alignment.mapall(liftover_alignments)\n",
    "for record in genome_alignment.sequences:\n",
    "    print(record.id, len(record.seq))"
   ]
  },
  {
   "cell_type": "code",
   "execution_count": 151,
   "metadata": {},
   "outputs": [
    {
     "data": {
      "text/plain": [
       "array([[130611000, 130611000, 130611008, 130611008, 130611010, 130611010,\n",
       "        130611033, 130611036, 130611048],\n",
       "       [155814782, 155814782, 155814790, 155814790, 155814792, 155814792,\n",
       "        155814815, 155814818, 155814830],\n",
       "       [ 95186253,  95186253,  95186245,  95186245,  95186243,  95186243,\n",
       "         95186220,  95186217,  95186205],\n",
       "       [  9758318,   9758318,   9758326,   9758326,   9758328,   9758328,\n",
       "          9758351,   9758354,   9758366],\n",
       "       [ 88765346,  88765343,  88765335,  88765333,  88765331,  88765327,\n",
       "         88765304,  88765304,  88765292],\n",
       "       [174256702, 174256699, 174256691, 174256691, 174256689, 174256685,\n",
       "        174256662, 174256662, 174256650]])"
      ]
     },
     "execution_count": 151,
     "metadata": {},
     "output_type": "execute_result"
    }
   ],
   "source": [
    "genome_alignment.coordinates"
   ]
  },
  {
   "cell_type": "code",
   "execution_count": null,
   "metadata": {},
   "outputs": [],
   "source": [
    "from Bio import SeqIO\n",
    "names = (\"panTro6\", \"hg38\", \"rheMac10\", \"calJac4\", \"mm39\", \"rn7\")\n",
    "for i, name in enumerate(names):\n",
    "    filename = f\"{name}.2bit\"\n",
    "    genome = SeqIO.parse(filename, \"twobit\")\n",
    "    chromosome = genome_alignment.sequences[i].id\n",
    "    assert len(genome_alignment.sequences[i]) == len(genome[chromosome])\n",
    "    genome_alignment.sequences[i] = genome[chromosome]\n",
    "    genome_alignment.sequences[i].id = f\"{name}.{chromosome}\"\n",
    "\n",
    " print(genome_alignment)\n",
    "\n",
    "# panTro6.c 130611000 ---ACTAGTTA--CA----GTAACAGAAAATAAAATTTAAATAGAAACTTAAAggcc\n",
    "# hg38.chr1 155814782 ---ACTAGTTA--CA----GTAACAGAAAATAAAATTTAAATAGAAACTTAAAggcc\n",
    "# rheMac10. 95186253 ---ACTAGTTA--CA----GTAACAGAAAATAAAATTTAAATAGAAACTTAAAggcc\n",
    "# calJac4.c 9758318 ---ACTAGTTA--CA----GTAACAGAaaataaaatttaaatagaagcttaaaggct\n",
    "# mm39.chr3 88765346 TATAATAATTGTATATGTCACAGAAAAAAATGAATTTTCAAT---GACTTAATAGCC\n",
    "# rn7.chr2 174256702 TACAATAATTG--TATGTCATAGAAAAAAATGAATTTTCAAT---AACTTAATAGCC\n",
    "# <BLANKLINE>\n",
    "# panTro6.c 130611048\n",
    "# hg38.chr1 155814830\n",
    "# rheMac10. 95186205\n",
    "# calJac4.c 9758366\n",
    "# mm39.chr3 88765292\n",
    "# rn7.chr2 174256650\n",
    "# <BLANKLINE>\n",
    "# The mapall method can also be used to create a multiple alignment of codon sequences from a multiple\n",
    "# sequence alignment of the corresponding amino acid sequences (see Section 7.12.2 for details)"
   ]
  },
  {
   "cell_type": "markdown",
   "metadata": {},
   "source": [
    "6.5 The Alignments class\n",
    "The Alignments (plural) class inherits from AlignmentsAbstractBaseClass and from list, and can be\n",
    "used as a list to store Alignment objects. The behavior of Alignments objects is different from that of list\n",
    "objects in three important ways:"
   ]
  },
  {
   "cell_type": "code",
   "execution_count": 152,
   "metadata": {},
   "outputs": [
    {
     "name": "stdout",
     "output_type": "stream",
     "text": [
      "<Alignment object (2 rows x 24 columns) at 0x19b84d40880>\n",
      "<Alignment object (2 rows x 8 columns) at 0x19b84d23610>\n",
      "<Alignment object (2 rows x 19 columns) at 0x19b840ff940>\n"
     ]
    }
   ],
   "source": [
    "from Bio.Align import Alignments\n",
    "alignment_list = [alignment1, alignment2, alignment3]\n",
    "for item in alignment_list:\n",
    "    print(repr(item)) # doctest: +ELLIPSIS"
   ]
  },
  {
   "cell_type": "code",
   "execution_count": 153,
   "metadata": {},
   "outputs": [
    {
     "name": "stdout",
     "output_type": "stream",
     "text": [
      "<Alignment object (2 rows x 24 columns) at 0x19b84d40880>\n",
      "<Alignment object (2 rows x 8 columns) at 0x19b84d23610>\n",
      "<Alignment object (2 rows x 19 columns) at 0x19b840ff940>\n"
     ]
    }
   ],
   "source": [
    "for item in alignment_list:\n",
    "    print(repr(item)) # doctest: +ELLIPSIS"
   ]
  },
  {
   "cell_type": "code",
   "execution_count": 154,
   "metadata": {},
   "outputs": [
    {
     "name": "stdout",
     "output_type": "stream",
     "text": [
      "<Alignment object (2 rows x 24 columns) at 0x19b84d40880>\n",
      "<Alignment object (2 rows x 8 columns) at 0x19b84d23610>\n",
      "<Alignment object (2 rows x 19 columns) at 0x19b840ff940>\n"
     ]
    }
   ],
   "source": [
    "alignments = Alignments([alignment1, alignment2, alignment3])\n",
    "for item in alignments:\n",
    "    print(repr(item)) # doctest: +ELLIPSIS"
   ]
  },
  {
   "cell_type": "code",
   "execution_count": 156,
   "metadata": {},
   "outputs": [],
   "source": [
    "for item in alignments:\n",
    "    print(repr(item)) # doctest: +ELLIPSIS"
   ]
  },
  {
   "cell_type": "code",
   "execution_count": 157,
   "metadata": {},
   "outputs": [
    {
     "name": "stdout",
     "output_type": "stream",
     "text": [
      "<Alignment object (2 rows x 24 columns) at 0x19b84d40880>\n",
      "<Alignment object (2 rows x 8 columns) at 0x19b84d23610>\n",
      "<Alignment object (2 rows x 19 columns) at 0x19b840ff940>\n"
     ]
    }
   ],
   "source": [
    "alignments.rewind()\n",
    "for item in alignments:\n",
    "    print(repr(item)) # doctest: +ELLIPSIS"
   ]
  },
  {
   "cell_type": "code",
   "execution_count": 158,
   "metadata": {},
   "outputs": [
    {
     "ename": "AttributeError",
     "evalue": "'list' object has no attribute 'score'",
     "output_type": "error",
     "traceback": [
      "\u001b[1;31m---------------------------------------------------------------------------\u001b[0m",
      "\u001b[1;31mAttributeError\u001b[0m                            Traceback (most recent call last)",
      "Cell \u001b[1;32mIn[158], line 1\u001b[0m\n\u001b[1;32m----> 1\u001b[0m alignment_list\u001b[38;5;241m.\u001b[39mscore \u001b[38;5;241m=\u001b[39m \u001b[38;5;241m100\u001b[39m\n",
      "\u001b[1;31mAttributeError\u001b[0m: 'list' object has no attribute 'score'"
     ]
    }
   ],
   "source": [
    "alignment_list.score = 100 # doctest: +ELLIPSIS"
   ]
  },
  {
   "cell_type": "code",
   "execution_count": 160,
   "metadata": {},
   "outputs": [
    {
     "data": {
      "text/plain": [
       "100"
      ]
     },
     "execution_count": 160,
     "metadata": {},
     "output_type": "execute_result"
    }
   ],
   "source": [
    "alignments.score = 100\n",
    "alignments.score"
   ]
  },
  {
   "cell_type": "markdown",
   "metadata": {},
   "source": [
    "6.6 Reading and writing alignments"
   ]
  },
  {
   "cell_type": "code",
   "execution_count": 161,
   "metadata": {},
   "outputs": [
    {
     "data": {
      "text/plain": [
       "0"
      ]
     },
     "execution_count": 161,
     "metadata": {},
     "output_type": "execute_result"
    }
   ],
   "source": [
    "from Bio import Align\n",
    "target = \"myfile.txt\"\n",
    "Align.write(alignments, target, \"clustal\")"
   ]
  },
  {
   "cell_type": "code",
   "execution_count": 162,
   "metadata": {},
   "outputs": [
    {
     "data": {
      "text/plain": [
       "0"
      ]
     },
     "execution_count": 162,
     "metadata": {},
     "output_type": "execute_result"
    }
   ],
   "source": [
    "from Bio import Align\n",
    "alignments = Align.Alignments(alignments)\n",
    "metadata = {\"Program\": \"Biopython\", \"Version\": \"1.81\"}\n",
    "alignments.metadata = metadata\n",
    "target = \"myfile.txt\"\n",
    "Align.write(alignments, target, \"clustal\")"
   ]
  },
  {
   "cell_type": "code",
   "execution_count": 163,
   "metadata": {},
   "outputs": [
    {
     "data": {
      "text/plain": [
       "'                  1 CCGGTTTT 9\\n                  0 AGGTTT-- 6\\n                  0 AG-TTT-- 5\\n'"
      ]
     },
     "execution_count": 163,
     "metadata": {},
     "output_type": "execute_result"
    }
   ],
   "source": [
    "str(alignment)"
   ]
  },
  {
   "cell_type": "code",
   "execution_count": 164,
   "metadata": {},
   "outputs": [
    {
     "data": {
      "text/plain": [
       "'                  1 CCGGTTTT 9\\n                  0 AGGTTT-- 6\\n                  0 AG-TTT-- 5\\n'"
      ]
     },
     "execution_count": 164,
     "metadata": {},
     "output_type": "execute_result"
    }
   ],
   "source": [
    "format(alignment)"
   ]
  },
  {
   "cell_type": "code",
   "execution_count": 165,
   "metadata": {},
   "outputs": [
    {
     "name": "stdout",
     "output_type": "stream",
     "text": [
      "                  1 CCGGTTTT 9\n",
      "                  0 AGGTTT-- 6\n",
      "                  0 AG-TTT-- 5\n",
      "\n"
     ]
    }
   ],
   "source": [
    "print(format(alignment))"
   ]
  },
  {
   "cell_type": "code",
   "execution_count": 166,
   "metadata": {},
   "outputs": [
    {
     "data": {
      "text/plain": [
       "'sequence_0                          CCGGTTTT\\nsequence_1                          AGGTTT--\\nsequence_2                          AG-TTT--\\n\\n\\n'"
      ]
     },
     "execution_count": 166,
     "metadata": {},
     "output_type": "execute_result"
    }
   ],
   "source": [
    "format(alignment, \"clustal\")"
   ]
  },
  {
   "cell_type": "code",
   "execution_count": 167,
   "metadata": {},
   "outputs": [
    {
     "name": "stdout",
     "output_type": "stream",
     "text": [
      "sequence_0                          CCGGTTTT\n",
      "sequence_1                          AGGTTT--\n",
      "sequence_2                          AG-TTT--\n",
      "\n",
      "\n",
      "\n"
     ]
    }
   ],
   "source": [
    "print(format(alignment, \"clustal\"))"
   ]
  },
  {
   "cell_type": "code",
   "execution_count": 168,
   "metadata": {},
   "outputs": [
    {
     "name": "stdout",
     "output_type": "stream",
     "text": [
      "*** this is the alignment in Clustal format: ***\n",
      "sequence_0                          CCGGTTTT\n",
      "sequence_1                          AGGTTT--\n",
      "sequence_2                          AG-TTT--\n",
      "\n",
      "\n",
      "\n",
      "***\n"
     ]
    }
   ],
   "source": [
    "print(f\"*** this is the alignment in Clustal format: ***\\n{alignment:clustal}\\n***\")"
   ]
  },
  {
   "cell_type": "code",
   "execution_count": 169,
   "metadata": {},
   "outputs": [
    {
     "data": {
      "text/plain": [
       "'a\\ns sequence_0 1 8 + 10 CCGGTTTT\\ns sequence_1 0 6 +  6 AGGTTT--\\ns sequence_2 0 5 +  9 AG-TTT--\\n\\n'"
      ]
     },
     "execution_count": 169,
     "metadata": {},
     "output_type": "execute_result"
    }
   ],
   "source": [
    "format(alignment, \"maf\")"
   ]
  },
  {
   "cell_type": "code",
   "execution_count": 170,
   "metadata": {},
   "outputs": [
    {
     "name": "stdout",
     "output_type": "stream",
     "text": [
      "a\n",
      "s sequence_0 1 8 + 10 CCGGTTTT\n",
      "s sequence_1 0 6 +  6 AGGTTT--\n",
      "s sequence_2 0 5 +  9 AG-TTT--\n",
      "\n",
      "\n"
     ]
    }
   ],
   "source": [
    "print(format(alignment, \"maf\"))"
   ]
  },
  {
   "cell_type": "code",
   "execution_count": 171,
   "metadata": {},
   "outputs": [
    {
     "name": "stdout",
     "output_type": "stream",
     "text": [
      "target            1 CCGGTTTT 9\n",
      "                  0 ..-.||-- 8\n",
      "query             0 AG-TTT-- 5\n",
      "\n"
     ]
    }
   ],
   "source": [
    "print(pairwise_alignment)"
   ]
  },
  {
   "cell_type": "code",
   "execution_count": 172,
   "metadata": {},
   "outputs": [
    {
     "name": "stdout",
     "output_type": "stream",
     "text": [
      "target\t1\t7\tquery\t0\t+\t1\t7\t0\t2\t2,3,\t0,3,\n",
      "\n"
     ]
    }
   ],
   "source": [
    "print(format(pairwise_alignment, \"bed\"))"
   ]
  },
  {
   "cell_type": "code",
   "execution_count": 173,
   "metadata": {},
   "outputs": [
    {
     "name": "stdout",
     "output_type": "stream",
     "text": [
      "target\t1\t7\tquery\t0\t+\t1\t7\t0\t2\t2,3,\t0,3,\n",
      "\n"
     ]
    }
   ],
   "source": [
    "print(pairwise_alignment.format(\"bed\"))"
   ]
  },
  {
   "cell_type": "code",
   "execution_count": 174,
   "metadata": {},
   "outputs": [
    {
     "name": "stdout",
     "output_type": "stream",
     "text": [
      "target\t1\t7\n",
      "\n"
     ]
    }
   ],
   "source": [
    "print(pairwise_alignment.format(\"bed\", bedN=3))"
   ]
  },
  {
   "cell_type": "code",
   "execution_count": 175,
   "metadata": {},
   "outputs": [
    {
     "name": "stdout",
     "output_type": "stream",
     "text": [
      "target\t1\t7\tquery\t0\t+\n",
      "\n"
     ]
    }
   ],
   "source": [
    "print(pairwise_alignment.format(\"bed\", bedN=6))"
   ]
  },
  {
   "cell_type": "code",
   "execution_count": 176,
   "metadata": {},
   "outputs": [
    {
     "data": {
      "text/plain": [
       "<Alignment object (5 rows x 101 columns) at 0x19b85dd3880>"
      ]
     },
     "execution_count": 176,
     "metadata": {},
     "output_type": "execute_result"
    }
   ],
   "source": [
    "from Bio import Align\n",
    "alignment = Align.read(\"probcons.fa\", \"fasta\")\n",
    "alignment"
   ]
  },
  {
   "cell_type": "code",
   "execution_count": 177,
   "metadata": {},
   "outputs": [
    {
     "name": "stdout",
     "output_type": "stream",
     "text": [
      "plas_horv         0 D-VLLGANGGVLVFEPNDFSVKAGETITFKNNAGYPHNVVFDEDAVPSG-VD-VSKISQE\n",
      "plas_chlr         0 --VKLGADSGALEFVPKTLTIKSGETVNFVNNAGFPHNIVFDEDAIPSG-VN-ADAISRD\n",
      "plas_anav         0 --VKLGSDKGLLVFEPAKLTIKPGDTVEFLNNKVPPHNVVFDAALNPAKSADLAKSLSHK\n",
      "plas_proh         0 VQIKMGTDKYAPLYEPKALSISAGDTVEFVMNKVGPHNVIFDK--VPAG-ES-APALSNT\n",
      "azup_achc         0 VHMLNKGKDGAMVFEPASLKVAPGDTVTFIPTDK-GHNVETIKGMIPDG-AE-A------\n",
      "\n",
      "plas_horv        57 EYLTAPGETFSVTLTV---PGTYGFYCEPHAGAGMVGKVTV 95\n",
      "plas_chlr        56 DYLNAPGETYSVKLTA---AGEYGYYCEPHQGAGMVGKIIV 94\n",
      "plas_anav        58 QLLMSPGQSTSTTFPADAPAGEYTFYCEPHRGAGMVGKITV 99\n",
      "plas_proh        56 KLRIAPGSFYSVTLGT---PGTYSFYCTPHRGAGMVGTITV 94\n",
      "azup_achc        51 -FKSKINENYKVTFTA---PGVYGVKCTPHYGMGMVGVVEV 88\n",
      "\n"
     ]
    }
   ],
   "source": [
    "print(alignment)"
   ]
  },
  {
   "cell_type": "code",
   "execution_count": 178,
   "metadata": {},
   "outputs": [
    {
     "name": "stdout",
     "output_type": "stream",
     "text": [
      ">plas_horvu\n",
      "D-VLLGANGGVLVFEPNDFSVKAGETITFKNNAGYPHNVVFDEDAVPSG-VD-VSKISQEEYLTAPGETFSVTLTV---PGTYGFYCEPHAGAGMVGKVTV\n",
      ">plas_chlre\n",
      "--VKLGADSGALEFVPKTLTIKSGETVNFVNNAGFPHNIVFDEDAIPSG-VN-ADAISRDDYLNAPGETYSVKLTA---AGEYGYYCEPHQGAGMVGKIIV\n",
      ">plas_anava\n",
      "--VKLGSDKGLLVFEPAKLTIKPGDTVEFLNNKVPPHNVVFDAALNPAKSADLAKSLSHKQLLMSPGQSTSTTFPADAPAGEYTFYCEPHRGAGMVGKITV\n",
      ">plas_proho\n",
      "VQIKMGTDKYAPLYEPKALSISAGDTVEFVMNKVGPHNVIFDK--VPAG-ES-APALSNTKLRIAPGSFYSVTLGT---PGTYSFYCTPHRGAGMVGTITV\n",
      ">azup_achcy\n",
      "VHMLNKGKDGAMVFEPASLKVAPGDTVTFIPTDK-GHNVETIKGMIPDG-AE-A-------FKSKINENYKVTFTA---PGVYGVKCTPHYGMGMVGVVEV\n",
      "\n"
     ]
    }
   ],
   "source": [
    "print(format(alignment, \"fasta\"))"
   ]
  },
  {
   "cell_type": "code",
   "execution_count": 180,
   "metadata": {},
   "outputs": [
    {
     "name": "stdout",
     "output_type": "stream",
     "text": [
      "plas_horvu                          D-VLLGANGGVLVFEPNDFSVKAGETITFKNNAGYPHNVVFDEDAVPSG-\n",
      "plas_chlre                          --VKLGADSGALEFVPKTLTIKSGETVNFVNNAGFPHNIVFDEDAIPSG-\n",
      "plas_anava                          --VKLGSDKGLLVFEPAKLTIKPGDTVEFLNNKVPPHNVVFDAALNPAKS\n",
      "plas_proho                          VQIKMGTDKYAPLYEPKALSISAGDTVEFVMNKVGPHNVIFDK--VPAG-\n",
      "azup_achcy                          VHMLNKGKDGAMVFEPASLKVAPGDTVTFIPTDK-GHNVETIKGMIPDG-\n",
      "\n",
      "plas_horvu                          VD-VSKISQEEYLTAPGETFSVTLTV---PGTYGFYCEPHAGAGMVGKVT\n",
      "plas_chlre                          VN-ADAISRDDYLNAPGETYSVKLTA---AGEYGYYCEPHQGAGMVGKII\n",
      "plas_anava                          ADLAKSLSHKQLLMSPGQSTSTTFPADAPAGEYTFYCEPHRGAGMVGKIT\n",
      "plas_proho                          ES-APALSNTKLRIAPGSFYSVTLGT---PGTYSFYCTPHRGAGMVGTIT\n",
      "azup_achcy                          AE-A-------FKSKINENYKVTFTA---PGVYGVKCTPHYGMGMVGVVE\n",
      "\n",
      "plas_horvu                          V\n",
      "plas_chlre                          V\n",
      "plas_anava                          V\n",
      "plas_proho                          V\n",
      "azup_achcy                          V\n",
      "\n",
      "\n",
      "\n"
     ]
    }
   ],
   "source": [
    "print(format(alignment, \"clustal\"))"
   ]
  },
  {
   "cell_type": "code",
   "execution_count": 181,
   "metadata": {},
   "outputs": [
    {
     "data": {
      "text/plain": [
       "[SeqRecord(seq=Seq('DVLLGANGGVLVFEPNDFSVKAGETITFKNNAGYPHNVVFDEDAVPSGVDVSKI...VTV'), id='plas_horvu', name='<unknown name>', description='', dbxrefs=[]),\n",
       " SeqRecord(seq=Seq('VKLGADSGALEFVPKTLTIKSGETVNFVNNAGFPHNIVFDEDAIPSGVNADAIS...IIV'), id='plas_chlre', name='<unknown name>', description='', dbxrefs=[]),\n",
       " SeqRecord(seq=Seq('VKLGSDKGLLVFEPAKLTIKPGDTVEFLNNKVPPHNVVFDAALNPAKSADLAKS...ITV'), id='plas_anava', name='<unknown name>', description='', dbxrefs=[]),\n",
       " SeqRecord(seq=Seq('VQIKMGTDKYAPLYEPKALSISAGDTVEFVMNKVGPHNVIFDKVPAGESAPALS...ITV'), id='plas_proho', name='<unknown name>', description='', dbxrefs=[]),\n",
       " SeqRecord(seq=Seq('VHMLNKGKDGAMVFEPASLKVAPGDTVTFIPTDKGHNVETIKGMIPDGAEAFKS...VEV'), id='azup_achcy', name='<unknown name>', description='', dbxrefs=[])]"
      ]
     },
     "execution_count": 181,
     "metadata": {},
     "output_type": "execute_result"
    }
   ],
   "source": [
    "alignment.sequences"
   ]
  },
  {
   "cell_type": "code",
   "execution_count": 182,
   "metadata": {},
   "outputs": [
    {
     "data": {
      "text/plain": [
       "array([[ 0,  1,  1, 33, 34, 42, 44, 48, 48, 50, 50, 51, 58, 73, 73, 95],\n",
       "       [ 0,  0,  0, 32, 33, 41, 43, 47, 47, 49, 49, 50, 57, 72, 72, 94],\n",
       "       [ 0,  0,  0, 32, 33, 41, 43, 47, 48, 50, 51, 52, 59, 74, 77, 99],\n",
       "       [ 0,  1,  2, 34, 35, 43, 43, 47, 47, 49, 49, 50, 57, 72, 72, 94],\n",
       "       [ 0,  1,  2, 34, 34, 42, 44, 48, 48, 50, 50, 51, 51, 66, 66, 88]])"
      ]
     },
     "execution_count": 182,
     "metadata": {},
     "output_type": "execute_result"
    }
   ],
   "source": [
    "alignment.coordinates"
   ]
  },
  {
   "cell_type": "code",
   "execution_count": 183,
   "metadata": {},
   "outputs": [
    {
     "data": {
      "text/plain": [
       "1"
      ]
     },
     "execution_count": 183,
     "metadata": {},
     "output_type": "execute_result"
    }
   ],
   "source": [
    "from io import StringIO\n",
    "stream = StringIO()\n",
    "Align.write(alignment, stream, \"FASTA\")\n"
   ]
  },
  {
   "cell_type": "code",
   "execution_count": 184,
   "metadata": {},
   "outputs": [
    {
     "name": "stdout",
     "output_type": "stream",
     "text": [
      ">plas_horvu\n",
      "D-VLLGANGGVLVFEPNDFSVKAGETITFKNNAGYPHNVVFDEDAVPSG-VD-VSKISQEEYLTAPGETFSVTLTV---PGTYGFYCEPHAGAGMVGKVTV\n",
      ">plas_chlre\n",
      "--VKLGADSGALEFVPKTLTIKSGETVNFVNNAGFPHNIVFDEDAIPSG-VN-ADAISRDDYLNAPGETYSVKLTA---AGEYGYYCEPHQGAGMVGKIIV\n",
      ">plas_anava\n",
      "--VKLGSDKGLLVFEPAKLTIKPGDTVEFLNNKVPPHNVVFDAALNPAKSADLAKSLSHKQLLMSPGQSTSTTFPADAPAGEYTFYCEPHRGAGMVGKITV\n",
      ">plas_proho\n",
      "VQIKMGTDKYAPLYEPKALSISAGDTVEFVMNKVGPHNVIFDK--VPAG-ES-APALSNTKLRIAPGSFYSVTLGT---PGTYSFYCTPHRGAGMVGTITV\n",
      ">azup_achcy\n",
      "VHMLNKGKDGAMVFEPASLKVAPGDTVTFIPTDK-GHNVETIKGMIPDG-AE-A-------FKSKINENYKVTFTA---PGVYGVKCTPHYGMGMVGVVEV\n",
      "\n"
     ]
    }
   ],
   "source": [
    "print(stream.getvalue())"
   ]
  },
  {
   "cell_type": "code",
   "execution_count": 186,
   "metadata": {},
   "outputs": [],
   "source": [
    "from Bio import Align\n",
    "alignments = Align.parse(\"opuntia.aln\", \"clustal\")"
   ]
  },
  {
   "cell_type": "code",
   "execution_count": 187,
   "metadata": {},
   "outputs": [
    {
     "data": {
      "text/plain": [
       "{'Program': 'CLUSTAL', 'Version': '2.1'}"
      ]
     },
     "execution_count": 187,
     "metadata": {},
     "output_type": "execute_result"
    }
   ],
   "source": [
    "alignments.metadata"
   ]
  },
  {
   "cell_type": "code",
   "execution_count": 188,
   "metadata": {},
   "outputs": [],
   "source": [
    "alignment = next(alignments)"
   ]
  },
  {
   "cell_type": "code",
   "execution_count": 189,
   "metadata": {},
   "outputs": [
    {
     "name": "stdout",
     "output_type": "stream",
     "text": [
      "gi|627328         0 TATACATTAAAGAAGGGGGATGCGGATAAATGGAAAGGCGAAAGAAAGAAAAAAATGAAT\n",
      "gi|627328         0 TATACATTAAAGAAGGGGGATGCGGATAAATGGAAAGGCGAAAGAAAGAAAAAAATGAAT\n",
      "gi|627328         0 TATACATTAAAGAAGGGGGATGCGGATAAATGGAAAGGCGAAAGAAAGAAAAAAATGAAT\n",
      "gi|627328         0 TATACATAAAAGAAGGGGGATGCGGATAAATGGAAAGGCGAAAGAAAGAAAAAAATGAAT\n",
      "gi|627329         0 TATACATTAAAGGAGGGGGATGCGGATAAATGGAAAGGCGAAAGAAAGAAAAAAATGAAT\n",
      "gi|627328         0 TATACATTAAAGGAGGGGGATGCGGATAAATGGAAAGGCGAAAGAAAGAAAAAAATGAAT\n",
      "gi|627329         0 TATACATTAAAGGAGGGGGATGCGGATAAATGGAAAGGCGAAAGAAAGAAAAAAATGAAT\n",
      "\n",
      "gi|627328        60 CTAAATGATATACGATTCCACTATGTAAGGTCTTTGAATCATATCATAAAAGACAATGTA\n",
      "gi|627328        60 CTAAATGATATACGATTCCACTATGTAAGGTCTTTGAATCATATCATAAAAGACAATGTA\n",
      "gi|627328        60 CTAAATGATATACGATTCCACTATGTAAGGTCTTTGAATCATATCATAAAAGACAATGTA\n",
      "gi|627328        60 CTAAATGATATACGATTCCACTATGTAAGGTCTTTGAATCATATCATAAAAGACAATGTA\n",
      "gi|627329        60 CTAAATGATATAGGATTCCACTATGTAAGGTCTTTGAATCATATCATAAAAGACAATGTA\n",
      "gi|627328        60 CTAAATGATATAGGATTCCACTATGTAAGGTCTTTGAATCATATCATAAAAGACAATGTA\n",
      "gi|627329        60 CTAAATGATATAGGATTCCACTATGTAAGGTCTTTGAATCATATCATAAAAGACAATGTA\n",
      "\n",
      "gi|627328       120 ATAAAGCATGAATACAGATTCACACATAATTATCTGATATGAATCTATTCATAGAAAAAA\n",
      "gi|627328       120 ATAAAGCATGAATACAGATTCACACATAATTATCTGATATGAATCTATTCATAGAAAAAA\n",
      "gi|627328       120 ATAAAGCATGAATACAGATTCACACATAATTATCTGATATGAATCTATTCATAGAAAAAA\n",
      "gi|627328       120 ATAAAGCATGAATACAGATTCACACATAATTATCTGATATGAATCTATTCATAGAAAAAA\n",
      "gi|627329       120 ATAAAGCATGAATACAGATTCACACATAATTATCTGATATGAATCTATTCATAGAAAAAA\n",
      "gi|627328       120 ATAAAGCATGAATACAGATTCACACATAATTATCTGATATGAATCTATTCATAGAAAAAA\n",
      "gi|627329       120 ATAAAGCATGAATACAGATTCACACATAATTATCTGATATGAATCTATTCATAGAAAAAA\n",
      "\n",
      "gi|627328       180 GAAAAAAGTAAGAGCCTCCGGCCAATAAAGACTAAGAGGGTTGGCTCAAGAACAAAGTTC\n",
      "gi|627328       180 GAAAAAAGTAAGAGCCTCCGGCCAATAAAGACTAAGAGGGTTGGCTCAAGAACAAAGTTC\n",
      "gi|627328       180 GAAAAAAGTAAGAGCCTCCGGCCAATAAAGACTAAGAGGGTTGGCTCAAGAACAAAGTTC\n",
      "gi|627328       180 GAAAAAAGTAAGAGCCTCCGGCCAATAAAGACTAAGAGGGTTGGCTCAAGAACAAAGTTC\n",
      "gi|627329       180 GAAAAAAGTAAGAGCCTCCGGCCAATAAAGACTAAGAGGGTTGGCTCAAGAACAAAGTTC\n",
      "gi|627328       180 GAAAAAAGTAAGAGCCTCCGGCCAATAAAGACTAAGAGGGTTGGCTCAAGAACAAAGTTC\n",
      "gi|627329       180 GAAAAAAGTAAGAGCCTCCGGCCAATAAAGACTAAGAGGGTTGGCTCAAGAACAAAGTTC\n",
      "\n",
      "gi|627328       240 ATTAAGAGCTCCATTGTAGAATTCAGACCTAATCATTAATCAAGAAGCGATGGGAACGAT\n",
      "gi|627328       240 ATTAAGAGCTCCATTGTAGAATTCAGACCTAATCATTAATCAAGAAGCGATGGGAACGAT\n",
      "gi|627328       240 ATTAAGAGCTCCATTGTAGAATTCAGACCTAATCATTAATCAAGAAGCGATGGGAACGAT\n",
      "gi|627328       240 ATTAAGAGCTCCATTGTAGAATTCAGACCTAATCATTAATCAAGAAGCGATGGGAACGAT\n",
      "gi|627329       240 ATTAAGAGCTCCATTGTAGAATTCAGACCTAATCATTAATCAAGAAGCGATGGGAACGAT\n",
      "gi|627328       240 ATTAAGAGCTCCATTGTAGAATTCAGACCTAATCATTAATCAAGAAGCGATGGGAACGAT\n",
      "gi|627329       240 ATTAAGAGCTCCATTGTAGAATTCAGACCTAATCATTAATCAAGAAGCGATGGGAACGAT\n",
      "\n",
      "gi|627328       300 GTAATCCATGAATACAGAAGATTCAATTGAAAAAGATCCTAA-TGATCATTGGGAAGGAT\n",
      "gi|627328       300 GTAATCCATGAATACAGAAGATTCAATTGAAAAAGATCCTAA-TGATCATTGGGAAGGAT\n",
      "gi|627328       300 GTAATCCATGAATACAGAAGATTCAATTGAAAAAGATCCTAT-GATCCATTGGGAAGGAT\n",
      "gi|627328       300 GTAATCCATGAATACAGAAGATTCAATTGAAAAAGATCCTAA-TGATCATTGG-AAGGAT\n",
      "gi|627329       300 GTAATCCATGAATACAGAAGATTCAATTGAAAAAGATCCTAATGNTNCATTGGGAAGGAT\n",
      "gi|627328       300 GTAATCCATGAATACAGAAGATTCAATTGAAAAAGATCCTAATGATTCATTGGGAAGGAT\n",
      "gi|627329       300 GTAATCCATGAATACAGAAGATTCAATTGAAAAAGATCCTA--TGNTCATTGG-AAGGAT\n",
      "\n",
      "gi|627328       359 GGCGGAACGAACCAGAGACCAATTCATCTATTCTGAAAAGTGATAAACTAATCCTATAAA\n",
      "gi|627328       359 GGCGGAACGAACCAGAGACCAATTCATCTATTCTGAAAAGTGATAAACTAATCCTATAAA\n",
      "gi|627328       359 GGCGGAACGAACCAGAGACCAATTCATCTATTCTGAAAAGTGATAAACTAATCCTATAAA\n",
      "gi|627328       358 GGCGGAACGAACCAGAGACCAATTCATCTATTCTGAAAAGTGATAAACTAATCCTATAAA\n",
      "gi|627329       360 GGCGGAACGAACCAGAGACCAATTCATCTATTCTGAAAAGTGATAAACTAATCCTATAAA\n",
      "gi|627328       360 GGCGGAACGAACCAGAGACCAATTCATCTATTCTGAAAAGTGATAAACTAATCCTATAAA\n",
      "gi|627329       357 GGCGGAACGAACCAGAGACCAATTCATCTATTCTGAAAAGTGATAAACTAATCCTATAAA\n",
      "\n",
      "gi|627328       419 ACTAAAATAGATATTGAAAGAGTAAATATTCGCCCGCGAAAATTCCTTTTTTATT-AAAT\n",
      "gi|627328       419 ACTAAAATAGATATTGAAAGAGTAAATATTCGCCCGCGAAAATTCCTTTTTTATT-AAAT\n",
      "gi|627328       419 ACTAAAATAGATATTGAAAGAGTAAATATTCGCCCGCGAAAATTCCTTTTTTTTTTAAAT\n",
      "gi|627328       418 ACTAAAATAGATATTGAAAGAGTAAATATTCGCCCGCGAAAATTCCTTTTTTATT-AAAT\n",
      "gi|627329       420 ACTAAAATAGATATTGAAAGAGTAAATATTCGCCCGCGAAAATTCCTTTTTTATT-AAAT\n",
      "gi|627328       420 ACTAAAATAGATATTGAAAGAGTAAATATTCGCCCGCGAAAATTCCTTTTTTATT-AAAT\n",
      "gi|627329       417 ACTAAAATAGATATTGAAAGAGTAAATATTCGCCCGCGAAAATTCCTTTTTTATT-AAAT\n",
      "\n",
      "gi|627328       478 TGCTCATATTTTATTTTAGCAATGCAATCTAATAAAATATATCTATACAAAAAAATATAG\n",
      "gi|627328       478 TGCTCATATTTTATTTTAGCAATGCAATCTAATAAAATATATCTATACAAAAAAATATAG\n",
      "gi|627328       479 TGCTCATATTTTATTTTAGCAATGCAATCTAATAAAATATATCTATACAAAAAAATAAAG\n",
      "gi|627328       477 TGCTCATATTTTATTTTAGCAATGCAATCTAATAAAATATATCTATACAAAAAAATATAG\n",
      "gi|627329       479 TGCTCATATTTTCTTTTAGCAATGCAATCTAATAAAATATATCTATACAAAAAAACATAG\n",
      "gi|627328       479 TGCTCATATTTTCTTTTAGCAATGCAATCTAATAAAATATATCTATACAAAAAAACATAG\n",
      "gi|627329       476 TGCTCATATTTTCTTTTAGCAATGCAATCTAATAAAATATATCTATACAAAAAAACATAG\n",
      "\n",
      "gi|627328       538 ACAAACTATATATATA----------ATATATTTCAAATTTCCTTATATACCCAAATATA\n",
      "gi|627328       538 ACAAACTATATATATATA--------ATATATTTCAAATTTCCTTATATACCCAAATATA\n",
      "gi|627328       539 ACAAACTATATATATA----------ATATATTTCAAATTTCCTTATATATCCAAATATA\n",
      "gi|627328       537 ACAAACTATATATATA----------ATATATTTATAATTTCCTTATATATCCAAATATA\n",
      "gi|627329       539 ACAAACTATATATATATATA------ATATATTTCAAATTCCCTTATATATCCAAATATA\n",
      "gi|627328       539 ACAAACTATATATATATATA------ATATATTTCAAATTCCCTTATATATCCAAATATA\n",
      "gi|627329       536 ACAAACTATATATATATATATATATAATATATTTCAAATTCCCTTATATATCCAAATATA\n",
      "\n",
      "gi|627328       588 AAAATATCTAATAAATTAGATGAATATCAAAGAATCCATTGATTTAGTGTATTATTAAAT\n",
      "gi|627328       590 AAAATATCTAATAAATTAGATGAATATCAAAGAATCTATTGATTTAGTGTATTATTAAAT\n",
      "gi|627328       589 AAAATATCTAATAAATTAGATGAATATCAAAGAATCTATTGATTTAGTGTATTATTAAAT\n",
      "gi|627328       587 AAAATATCTAATAAATTAGATGAATATCAAAGAATCTATTGATTTAGTGTATTATTAAAT\n",
      "gi|627329       593 AAAATATCTAATAAATTAGATGAATATCAAAGAATCTATTGATTTAGTGTATTATTAAAT\n",
      "gi|627328       593 AAAATATCTAATAAATTAGATGAATATCAAAGAATCTATTGATTTAGTATATTATTAAAT\n",
      "gi|627329       596 AAAATATCTAATAAATTAGATGAATATCAAAGAATCTATTGATTTAGTGTATTATTAAAT\n",
      "\n",
      "gi|627328       648 GTATATCTTAATTCAATATTATTATTCTATTCATTTTTATTCATTTTCAAATTTATAATA\n",
      "gi|627328       650 GTATATCTTAATTCAATATTATTATTCTATTCATTTTTATTCATTTTCAAATTTATAATA\n",
      "gi|627328       649 GTATATCTTAATTCAATATTATTATTCTATTCATTTTTATTCATTTTCAATTTTATAATA\n",
      "gi|627328       647 GTATATCTTAATTCAATATTATTATTCTATTCATTTTTATTCATTTTCAAATTTATAATA\n",
      "gi|627329       653 GTATATATTAATTCAATATTATTATTCTATTCATTTTTATTCATTTTCAAATTTATAATA\n",
      "gi|627328       653 GTATATATTAATTCAATATTATTATTCTATTCATTTTTATTCATTTTCAAATTTATAATA\n",
      "gi|627329       656 GTATATATTAATTCAATATTATTATTCTATTCATTTTTATTCATTTTCAAATTTATAATA\n",
      "\n",
      "gi|627328       708 TATTAATCTATATATTAATTTATAATTCTATTCTAATTCGAATTCAATTTTTAAATATTC\n",
      "gi|627328       710 TATTAATCTATATATTAATTTATAATTCTATTCTAATTCGAATTCAATTTTTAAATATTC\n",
      "gi|627328       709 TATTAATCTATATATTAATTTATAATTCTATTCTAATTCGAATTCAATTTTTAAATATTC\n",
      "gi|627328       707 TATTAATCTATATATTAATTTATAATTCTATTCTAATTCGAATTCAATTTTTAAATATTC\n",
      "gi|627329       713 TATTAATCTATATATTAATTTAGAATTCTATTCTAATTCGAATTCAATTTTTAAATATTC\n",
      "gi|627328       713 TATTAATCTATATATTAATTTAGAATTCTATTCTAATTCGAATTCAATTTTTAAATATTC\n",
      "gi|627329       716 TATTAATCTATATATTAATTTAGAATTCTATTCTAATTCGAATTCAATTTTTAAATATTC\n",
      "\n",
      "gi|627328       768 ATATTCAATTAAAATTGAAATTTTTTCATTCGCGAGGAGCCGGATGAGAAGAAACTCTCA\n",
      "gi|627328       770 ATATTCAATTAAAATTGAAATTTTTTCATTCGCGAGGAGCCGGATGAGAAGAAACTCTCA\n",
      "gi|627328       769 ATATTCAATTAAAATTGAAATTTTTTCATTCGCGAGGAGCCGGATGAGAAGAAACTCTCA\n",
      "gi|627328       767 ATATTCAATTAAAATTGAAATTTTTTCATTCGCGAGGAGCCGGATGAGAAGAAACTCTCA\n",
      "gi|627329       773 ATATTCAATTAAAATTGAAATTTTTTCATTCGCGAGGAGCCGGATGAGAAGAAACTCTCA\n",
      "gi|627328       773 ATATTCAATTAAAATTGAAATTTTTTCATTCGCGAGGAGCCGGATGAGAAGAAACTCTCA\n",
      "gi|627329       776 ATATTCAATTAAAATTGAAATTTTTTCATTCGCGAGGAGCCGGATGAGAAGAAACTCTCA\n",
      "\n",
      "gi|627328       828 TGTCCGGTTCTGTAGTAGAGATGGAATTAAGAAAAAACCATCAACTATAACCCCAAGAGA\n",
      "gi|627328       830 TGTCCGGTTCTGTAGTAGAGATGGAATTAAGAAAAAACCATCAACTATAACCCCAAGAGA\n",
      "gi|627328       829 TGTCCGGTTCTGTAGTAGAGATGGAATTAAGAAAAAACCATCAACTATAACCCCAAGAGA\n",
      "gi|627328       827 TGTCCGGTTCTGTAGTAGAGATGGAATTAAGAAAAAACCATCAACTATAACCCCAAGAGA\n",
      "gi|627329       833 TGTCCGGTTCTGTAGTAGAGATGGAATTAAGAAAAAACCATCAACTATAACCCCAAAAGA\n",
      "gi|627328       833 TGTCCGGTTCTGTAGTAGAGATGGAATTAAGAAAAAACCATCAACTATAACCCCAAAAGA\n",
      "gi|627329       836 TGTCCGGTTCTGTAGTAGAGATGGAATTAAGAAAAAACCATCAACTATAACCCCAAAAGA\n",
      "\n",
      "gi|627328       888 ACCAGA 894\n",
      "gi|627328       890 ACCAGA 896\n",
      "gi|627328       889 ACCAGA 895\n",
      "gi|627328       887 ACCAGA 893\n",
      "gi|627329       893 ACCAGA 899\n",
      "gi|627328       893 ACCAGA 899\n",
      "gi|627329       896 ACCAGA 902\n",
      "\n"
     ]
    },
    {
     "ename": "",
     "evalue": "",
     "output_type": "error",
     "traceback": [
      "\u001b[1;31m在当前单元格或上一个单元格中执行代码时 Kernel 崩溃。\n",
      "\u001b[1;31m请查看单元格中的代码，以确定故障的可能原因。\n",
      "\u001b[1;31m单击<a href='https://aka.ms/vscodeJupyterKernelCrash'>此处</a>了解详细信息。\n",
      "\u001b[1;31m有关更多详细信息，请查看 Jupyter <a href='command:jupyter.viewOutput'>log</a>。"
     ]
    }
   ],
   "source": [
    "print(alignment)"
   ]
  },
  {
   "cell_type": "code",
   "execution_count": null,
   "metadata": {},
   "outputs": [],
   "source": []
  }
 ],
 "metadata": {
  "kernelspec": {
   "display_name": "learn_omo",
   "language": "python",
   "name": "python3"
  },
  "language_info": {
   "codemirror_mode": {
    "name": "ipython",
    "version": 3
   },
   "file_extension": ".py",
   "mimetype": "text/x-python",
   "name": "python",
   "nbconvert_exporter": "python",
   "pygments_lexer": "ipython3",
   "version": "3.8.19"
  }
 },
 "nbformat": 4,
 "nbformat_minor": 2
}
